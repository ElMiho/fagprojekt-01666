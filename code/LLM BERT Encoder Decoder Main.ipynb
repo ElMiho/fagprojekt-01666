{
 "cells": [
  {
   "cell_type": "code",
   "execution_count": 1,
   "id": "6b9390e0",
   "metadata": {},
   "outputs": [],
   "source": [
    "import sys\n",
    "import json"
   ]
  },
  {
   "cell_type": "markdown",
   "id": "7d25de36",
   "metadata": {},
   "source": [
    "### Config"
   ]
  },
  {
   "cell_type": "code",
   "execution_count": 2,
   "id": "a5ff498c",
   "metadata": {},
   "outputs": [
    {
     "data": {
      "text/plain": [
       "{'global_params': {'train_en_file': 'data/en_train.sample',\n",
       "  'train_de_file': 'data/de_train.sample',\n",
       "  'valid_en_file': 'data/en_valid.sample',\n",
       "  'valid_de_file': 'data/de_valid.sample'},\n",
       " 'encoder_params': {'tokenizer_path': 'tokenizers/en_tok/',\n",
       "  'vocab_size': 25000,\n",
       "  'min_freq': 3,\n",
       "  'max_length': 512,\n",
       "  'num_attn_heads': 8,\n",
       "  'num_hidden_layers': 8,\n",
       "  'hidden_size': 512},\n",
       " 'decoder_params': {'tokenizer_path': 'tokenizers/de_tok/',\n",
       "  'vocab_size': 25000,\n",
       "  'min_freq': 3,\n",
       "  'max_length': 256,\n",
       "  'num_attn_heads': 8,\n",
       "  'num_hidden_layers': 8,\n",
       "  'hidden_size': 512},\n",
       " 'model_params': {'batch_size': 16,\n",
       "  'num_epochs': 1,\n",
       "  'lr': 0.0001,\n",
       "  'model_path': 'models/',\n",
       "  'model_name': 'encdec.mdl'}}"
      ]
     },
     "execution_count": 2,
     "metadata": {},
     "output_type": "execute_result"
    }
   ],
   "source": [
    "configfile = \"./configs/config_llm.json\"\n",
    "with open(configfile, \"r\") as f:\n",
    "    config = json.load(f)\n",
    "f.close()\n",
    "config"
   ]
  },
  {
   "cell_type": "markdown",
   "id": "360cc426",
   "metadata": {},
   "source": [
    "### Tokenizers"
   ]
  },
  {
   "cell_type": "code",
   "execution_count": null,
   "id": "941c1fe1",
   "metadata": {},
   "outputs": [],
   "source": []
  },
  {
   "cell_type": "code",
   "execution_count": null,
   "id": "77c5f169",
   "metadata": {},
   "outputs": [],
   "source": []
  },
  {
   "cell_type": "code",
   "execution_count": null,
   "id": "81008174",
   "metadata": {},
   "outputs": [],
   "source": []
  },
  {
   "cell_type": "code",
   "execution_count": null,
   "id": "53ba8531",
   "metadata": {},
   "outputs": [],
   "source": []
  },
  {
   "cell_type": "code",
   "execution_count": null,
   "id": "2edf95cb",
   "metadata": {},
   "outputs": [],
   "source": []
  },
  {
   "cell_type": "code",
   "execution_count": null,
   "id": "cb9a2327",
   "metadata": {},
   "outputs": [],
   "source": []
  },
  {
   "cell_type": "code",
   "execution_count": null,
   "id": "95dba472",
   "metadata": {},
   "outputs": [],
   "source": []
  },
  {
   "cell_type": "code",
   "execution_count": null,
   "id": "e1cfa5f2",
   "metadata": {},
   "outputs": [],
   "source": []
  },
  {
   "cell_type": "code",
   "execution_count": null,
   "id": "d8cdc5d1",
   "metadata": {},
   "outputs": [],
   "source": []
  },
  {
   "cell_type": "code",
   "execution_count": null,
   "id": "a066de5b",
   "metadata": {},
   "outputs": [],
   "source": []
  },
  {
   "cell_type": "code",
   "execution_count": null,
   "id": "047a0787",
   "metadata": {},
   "outputs": [],
   "source": []
  },
  {
   "cell_type": "code",
   "execution_count": null,
   "id": "8e3f60e5",
   "metadata": {},
   "outputs": [],
   "source": []
  },
  {
   "cell_type": "code",
   "execution_count": null,
   "id": "8954dc3f",
   "metadata": {},
   "outputs": [],
   "source": []
  }
 ],
 "metadata": {
  "kernelspec": {
   "display_name": "Python 3 (ipykernel)",
   "language": "python",
   "name": "python3"
  },
  "language_info": {
   "codemirror_mode": {
    "name": "ipython",
    "version": 3
   },
   "file_extension": ".py",
   "mimetype": "text/x-python",
   "name": "python",
   "nbconvert_exporter": "python",
   "pygments_lexer": "ipython3",
   "version": "3.10.7"
  }
 },
 "nbformat": 4,
 "nbformat_minor": 5
}
