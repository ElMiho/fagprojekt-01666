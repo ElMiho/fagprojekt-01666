{
 "cells": [
  {
   "cell_type": "code",
   "execution_count": 11,
   "id": "123586f4",
   "metadata": {},
   "outputs": [],
   "source": [
    "from wolframclient.evaluation import WolframLanguageSession\n",
    "from wolframclient.language import wl, wlexpr\n",
    "session = WolframLanguageSession()"
   ]
  },
  {
   "cell_type": "code",
   "execution_count": 12,
   "id": "1c7661f5",
   "metadata": {},
   "outputs": [],
   "source": [
    "session.evaluate('''\n",
    "    evaluateSum[list1_, list2_] := ToString[\n",
    "        Sum[\n",
    "            Product[\n",
    "                n - list1[[p]], {p, 1, Length[list1]}\n",
    "            ] / Product[\n",
    "                n - list2[[p]], {p, 1, Length[list2]}\n",
    "            ], {n, 1, Infinity}\n",
    "        ], InputForm\n",
    "    ]\n",
    "''')"
   ]
  },
  {
   "cell_type": "code",
   "execution_count": 13,
   "id": "eb86bbfc",
   "metadata": {},
   "outputs": [],
   "source": [
    "evaluate_sum = session.function(wlexpr('evaluateSum'))"
   ]
  },
  {
   "cell_type": "code",
   "execution_count": 14,
   "id": "a3858b0d",
   "metadata": {},
   "outputs": [
    {
     "data": {
      "text/plain": [
       "'Pi^2/6'"
      ]
     },
     "execution_count": 14,
     "metadata": {},
     "output_type": "execute_result"
    }
   ],
   "source": [
    "evaluate_sum([], [0, 0])"
   ]
  },
  {
   "cell_type": "code",
   "execution_count": 9,
   "id": "a5d7b0b9",
   "metadata": {},
   "outputs": [],
   "source": [
    "session.terminate()"
   ]
  },
  {
   "cell_type": "code",
   "execution_count": null,
   "id": "0922e690",
   "metadata": {},
   "outputs": [],
   "source": []
  }
 ],
 "metadata": {
  "kernelspec": {
   "display_name": "Python 3 (ipykernel)",
   "language": "python",
   "name": "python3"
  },
  "language_info": {
   "codemirror_mode": {
    "name": "ipython",
    "version": 3
   },
   "file_extension": ".py",
   "mimetype": "text/x-python",
   "name": "python",
   "nbconvert_exporter": "python",
   "pygments_lexer": "ipython3",
   "version": "3.11.2"
  }
 },
 "nbformat": 4,
 "nbformat_minor": 5
}
