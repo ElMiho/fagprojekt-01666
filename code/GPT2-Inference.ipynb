{
 "cells": [
  {
   "cell_type": "code",
   "execution_count": 1,
   "id": "03a140bf",
   "metadata": {},
   "outputs": [],
   "source": [
    "import torch\n",
    "\n",
    "from transformers import AutoModelForCausalLM, pipeline, GPT2LMHeadModel, GPT2Tokenizer\n",
    "\n",
    "import numpy as np\n",
    "import sympy as sp"
   ]
  },
  {
   "cell_type": "code",
   "execution_count": 2,
   "id": "2c3efd7f",
   "metadata": {},
   "outputs": [],
   "source": [
    "from model.tokens import Token, TOKEN_TYPE_EXPRESSIONS, TOKEN_TYPE_ANSWERS\n",
    "from model.equation_interpreter import Equation\n",
    "from model.vocabulary import Vocabulary\n",
    "from model.tokens import Token"
   ]
  },
  {
   "cell_type": "code",
   "execution_count": 3,
   "id": "eb53ab99",
   "metadata": {},
   "outputs": [],
   "source": [
    "from datasets import disable_caching\n",
    "disable_caching()"
   ]
  },
  {
   "cell_type": "code",
   "execution_count": 4,
   "id": "e87927a2",
   "metadata": {},
   "outputs": [],
   "source": [
    "# Create a combined vocabulary\n",
    "vocabulary = Vocabulary.construct_from_list(TOKEN_TYPE_EXPRESSIONS + TOKEN_TYPE_ANSWERS)\n",
    "vectorized_sample = vocabulary.vectorize([\"#\", \"/\", \"0\", \"-1\", \"[SEP]\", \"TT_INTEGER\"])\n",
    "vectorized_sample, [vocabulary.getToken(idx) for idx in vectorized_sample]\n",
    "\n",
    "# Global variables\n",
    "model_name = \"JustSumAI\"\n",
    "project_name = \"JustSumAI\"\n",
    "repo_name = f\"{model_name}_cleaned_gpt2_data\""
   ]
  },
  {
   "cell_type": "code",
   "execution_count": 5,
   "id": "b0ddfe40",
   "metadata": {},
   "outputs": [
    {
     "data": {
      "text/plain": [
       "(tensor([[1212,  318,  616, 5128, 8379,   13]]), torch.Size([1, 6]))"
      ]
     },
     "execution_count": 5,
     "metadata": {},
     "output_type": "execute_result"
    }
   ],
   "source": [
    "tokenizer = GPT2Tokenizer.from_pretrained('gpt2')\n",
    "\n",
    "input_text = \"This is my input sequence.\"\n",
    "input_ids = tokenizer.encode(input_text, return_tensors='pt')\n",
    "input_ids, input_ids.size()"
   ]
  },
  {
   "cell_type": "code",
   "execution_count": 6,
   "id": "502f365a",
   "metadata": {},
   "outputs": [
    {
     "data": {
      "text/plain": [
       "65"
      ]
     },
     "execution_count": 6,
     "metadata": {},
     "output_type": "execute_result"
    }
   ],
   "source": [
    "vocabulary.end_seq_index"
   ]
  },
  {
   "cell_type": "markdown",
   "id": "937b64a1",
   "metadata": {},
   "source": [
    "# Load model"
   ]
  },
  {
   "cell_type": "code",
   "execution_count": 7,
   "id": "fce02561",
   "metadata": {},
   "outputs": [
    {
     "data": {
      "application/vnd.jupyter.widget-view+json": {
       "model_id": "acb62557fe91472b83a58c713d178bb5",
       "version_major": 2,
       "version_minor": 0
      },
      "text/plain": [
       "Downloading (…)lve/main/config.json:   0%|          | 0.00/943 [00:00<?, ?B/s]"
      ]
     },
     "metadata": {},
     "output_type": "display_data"
    },
    {
     "name": "stderr",
     "output_type": "stream",
     "text": [
      "C:\\Users\\Hugo\\AppData\\Local\\Programs\\Python\\Python310\\lib\\site-packages\\huggingface_hub\\file_download.py:133: UserWarning: `huggingface_hub` cache-system uses symlinks by default to efficiently store duplicated files but your machine does not support them in C:\\Users\\Hugo\\.cache\\huggingface\\hub. Caching files will still work but in a degraded version that might require more space on your disk. This warning can be disabled by setting the `HF_HUB_DISABLE_SYMLINKS_WARNING` environment variable. For more details, see https://huggingface.co/docs/huggingface_hub/how-to-cache#limitations.\n",
      "To support symlinks on Windows, you either need to activate Developer Mode or to run Python as an administrator. In order to see activate developer mode, see this article: https://docs.microsoft.com/en-us/windows/apps/get-started/enable-your-device-for-development\n",
      "  warnings.warn(message)\n"
     ]
    },
    {
     "data": {
      "application/vnd.jupyter.widget-view+json": {
       "model_id": "21a34dfe706b4fe1a1a32ba7a644b956",
       "version_major": 2,
       "version_minor": 0
      },
      "text/plain": [
       "Downloading pytorch_model.bin:   0%|          | 0.00/356M [00:00<?, ?B/s]"
      ]
     },
     "metadata": {},
     "output_type": "display_data"
    },
    {
     "data": {
      "application/vnd.jupyter.widget-view+json": {
       "model_id": "fecd9602054d4054a373e04a7640cb61",
       "version_major": 2,
       "version_minor": 0
      },
      "text/plain": [
       "Downloading (…)neration_config.json:   0%|          | 0.00/134 [00:00<?, ?B/s]"
      ]
     },
     "metadata": {},
     "output_type": "display_data"
    },
    {
     "data": {
      "text/plain": [
       "GPT2LMHeadModel(\n",
       "  (transformer): GPT2Model(\n",
       "    (wte): Embedding(68, 768)\n",
       "    (wpe): Embedding(1024, 768)\n",
       "    (drop): Dropout(p=0.1, inplace=False)\n",
       "    (h): ModuleList(\n",
       "      (0-11): 12 x GPT2Block(\n",
       "        (ln_1): LayerNorm((768,), eps=1e-05, elementwise_affine=True)\n",
       "        (attn): GPT2Attention(\n",
       "          (c_attn): Conv1D()\n",
       "          (c_proj): Conv1D()\n",
       "          (attn_dropout): Dropout(p=0.1, inplace=False)\n",
       "          (resid_dropout): Dropout(p=0.1, inplace=False)\n",
       "        )\n",
       "        (ln_2): LayerNorm((768,), eps=1e-05, elementwise_affine=True)\n",
       "        (mlp): GPT2MLP(\n",
       "          (c_fc): Conv1D()\n",
       "          (c_proj): Conv1D()\n",
       "          (act): NewGELUActivation()\n",
       "          (dropout): Dropout(p=0.1, inplace=False)\n",
       "        )\n",
       "      )\n",
       "    )\n",
       "    (ln_f): LayerNorm((768,), eps=1e-05, elementwise_affine=True)\n",
       "  )\n",
       "  (lm_head): Linear(in_features=768, out_features=68, bias=False)\n",
       ")"
      ]
     },
     "execution_count": 7,
     "metadata": {},
     "output_type": "execute_result"
    }
   ],
   "source": [
    "model = GPT2LMHeadModel.from_pretrained(f\"Dragonoverlord3000/{model_name}\", force_download=True)\n",
    "model"
   ]
  },
  {
   "cell_type": "code",
   "execution_count": 14,
   "id": "80bd83fb",
   "metadata": {},
   "outputs": [
    {
     "data": {
      "text/plain": [
       "(tensor([64, 40, 39, 19,  9, 67]), torch.Size([1, 6]))"
      ]
     },
     "execution_count": 14,
     "metadata": {},
     "output_type": "execute_result"
    }
   ],
   "source": [
    "test_example_ids = torch.LongTensor([vocabulary.vectorize([\"#\", \"/\", \"0\", \"-1\"])[:-1] + [vocabulary.separator_index]])\n",
    "test_example_ids[0], test_example_ids.size()"
   ]
  },
  {
   "cell_type": "code",
   "execution_count": 15,
   "id": "af631d5d",
   "metadata": {},
   "outputs": [
    {
     "name": "stdout",
     "output_type": "stream",
     "text": [
      "torch.Size([1, 6, 68])\n"
     ]
    },
    {
     "data": {
      "text/plain": [
       "['<BEGIN>', '#', '/', '0', '-1', 'TT_INTEGER']"
      ]
     },
     "execution_count": 15,
     "metadata": {},
     "output_type": "execute_result"
    }
   ],
   "source": [
    "test = model(test_example_ids).logits\n",
    "print(test.size())\n",
    "[vocabulary.getToken(torch.argmax(o).item()) for o in test[0]]"
   ]
  },
  {
   "cell_type": "code",
   "execution_count": 16,
   "id": "9be1176a",
   "metadata": {},
   "outputs": [
    {
     "data": {
      "text/plain": [
       "(tensor([[64, 40, 39, 19,  9, 67, 49, 49, 49, 53, 60, 44, 60, 58, 49, 49, 57, 60,\n",
       "          58, 49, 61, 65]]),\n",
       " torch.Size([1, 22]))"
      ]
     },
     "execution_count": 16,
     "metadata": {},
     "output_type": "execute_result"
    }
   ],
   "source": [
    "out = model.generate(test_example_ids, \n",
    "                     eos_token_id=vocabulary.end_seq_index, \n",
    "                     pad_token_id=vocabulary.mask_index)\n",
    "out, out.size()"
   ]
  },
  {
   "cell_type": "code",
   "execution_count": 17,
   "id": "acf8ef09",
   "metadata": {},
   "outputs": [
    {
     "data": {
      "text/plain": [
       "(['<BEGIN>',\n",
       "  '#',\n",
       "  '/',\n",
       "  '0',\n",
       "  '-1',\n",
       "  '[SEP]',\n",
       "  'TT_INTEGER',\n",
       "  'TT_INTEGER',\n",
       "  'TT_INTEGER',\n",
       "  'TT_SQRT',\n",
       "  'TT_MULTIPLY',\n",
       "  'TT_PI',\n",
       "  'TT_MULTIPLY',\n",
       "  'TT_PLUS',\n",
       "  'TT_INTEGER',\n",
       "  'TT_INTEGER',\n",
       "  'TT_LOG',\n",
       "  'TT_MULTIPLY',\n",
       "  'TT_PLUS',\n",
       "  'TT_INTEGER',\n",
       "  'TT_DIVIDE',\n",
       "  '<END>'],\n",
       " 5)"
      ]
     },
     "execution_count": 17,
     "metadata": {},
     "output_type": "execute_result"
    }
   ],
   "source": [
    "l = [vocabulary.getToken(o.item()) for o in out[0]]\n",
    "l, l.index(\"[SEP]\")"
   ]
  },
  {
   "cell_type": "code",
   "execution_count": 18,
   "id": "f85abbc4",
   "metadata": {},
   "outputs": [
    {
     "data": {
      "text/plain": [
       "<model.equation_interpreter.Equation at 0x2a815e0e200>"
      ]
     },
     "execution_count": 18,
     "metadata": {},
     "output_type": "execute_result"
    }
   ],
   "source": [
    "eq = Equation([Token(vocabulary.getToken(o.item())) for o in out[0]][l.index(\"[SEP]\")+1:-1], notation=\"postfix\")\n",
    "eq"
   ]
  },
  {
   "cell_type": "code",
   "execution_count": 19,
   "id": "fdf6adad",
   "metadata": {},
   "outputs": [
    {
     "data": {
      "text/plain": [
       "'(((Z+((Z*Sqrt(Z))*Pi))+(Z*Log(Z)))/Z)'"
      ]
     },
     "execution_count": 19,
     "metadata": {},
     "output_type": "execute_result"
    }
   ],
   "source": [
    "eq.getMathmetaicalNotation()"
   ]
  },
  {
   "cell_type": "markdown",
   "id": "2bd63a47",
   "metadata": {},
   "source": [
    "______"
   ]
  },
  {
   "cell_type": "code",
   "execution_count": 20,
   "id": "478ebbf3",
   "metadata": {
    "scrolled": true
   },
   "outputs": [
    {
     "data": {
      "text/latex": [
       "$\\displaystyle \\frac{\\Pi Z \\operatorname{Sqrt}{\\left(Z \\right)} + Z \\operatorname{Log}{\\left(Z \\right)} + Z}{Z}$"
      ],
      "text/plain": [
       "(Pi*Z*Sqrt(Z) + Z*Log(Z) + Z)/Z"
      ]
     },
     "execution_count": 20,
     "metadata": {},
     "output_type": "execute_result"
    }
   ],
   "source": [
    "sp.parse_expr(eq.getMathmetaicalNotation(), evaluate=False)"
   ]
  },
  {
   "cell_type": "markdown",
   "id": "02a975ad",
   "metadata": {},
   "source": [
    "### Accept user input"
   ]
  },
  {
   "cell_type": "code",
   "execution_count": 21,
   "id": "0aada31f",
   "metadata": {},
   "outputs": [],
   "source": [
    "from IPython.display import display\n",
    "import ipywidgets as widgets"
   ]
  },
  {
   "cell_type": "code",
   "execution_count": 22,
   "id": "d8f196cc",
   "metadata": {},
   "outputs": [],
   "source": [
    "numerator_degree = 3\n",
    "denominator_degree = 6"
   ]
  },
  {
   "cell_type": "code",
   "execution_count": 23,
   "id": "2277cb9f",
   "metadata": {},
   "outputs": [],
   "source": [
    "def parentherizer(val):\n",
    "    if \"-\" in val:\n",
    "        return f\"({val})\"\n",
    "    return val"
   ]
  },
  {
   "cell_type": "code",
   "execution_count": 24,
   "id": "5dead073",
   "metadata": {},
   "outputs": [
    {
     "data": {
      "application/vnd.jupyter.widget-view+json": {
       "model_id": "ecee8279291a4b54957a871e9b417251",
       "version_major": 2,
       "version_minor": 0
      },
      "text/plain": [
       "interactive(children=(SelectionSlider(continuous_update=False, description='Root 1', options=('-5', '-4', '-3'…"
      ]
     },
     "metadata": {},
     "output_type": "display_data"
    }
   ],
   "source": [
    "math_display = widgets.HTMLMath(\n",
    "    value=f\"Sum Math\",\n",
    "    placeholder='',\n",
    "    description='',\n",
    ")\n",
    "\n",
    "numerator_list = [widgets.SelectionSlider(\n",
    "    options=TOKEN_TYPE_EXPRESSIONS[:-2],\n",
    "    value='-5',\n",
    "    description=f'Root {i+1}',\n",
    "    disabled=False,\n",
    "    continuous_update=False,\n",
    "    orientation='horizontal',\n",
    "    readout=True\n",
    ") for i in range(numerator_degree)]\n",
    "\n",
    "denominator_list = [\n",
    "    widgets.SelectionSlider(\n",
    "    options=TOKEN_TYPE_EXPRESSIONS[:-2],\n",
    "    value='-5',\n",
    "    description=f'Root {i+1}',\n",
    "    disabled=False,\n",
    "    continuous_update=False,\n",
    "    orientation='horizontal',\n",
    "    readout=True\n",
    ") for i in range(denominator_degree)]\n",
    "\n",
    "ui_1 = widgets.VBox(numerator_list)\n",
    "ui_2 = widgets.VBox(denominator_list)\n",
    "\n",
    "def f(**kwargs):\n",
    "    print(kwargs, list(kwargs))\n",
    "    sum_str = r\"$$\\sum_{n=1}^{\\infty}\\frac{\" + \"\".join([f\"(n - {parentherizer(kwargs[str(i)])})\" for i in range(numerator_degree)]) + \"}{\" + \"\".join([f\"(n - {parentherizer(kwargs[str(i + numerator_degree)])})\" for i in range(denominator_degree)]) + \"}\" + \"$$\"\n",
    "    math_display.value = sum_str\n",
    "    display(math_display)\n",
    "\n",
    "out = widgets.interactive(f, **{str(i):v for i,v in enumerate(numerator_list + denominator_list)})\n",
    "\n",
    "display(out)#ui_1, ui_2, out)"
   ]
  },
  {
   "cell_type": "code",
   "execution_count": 27,
   "id": "611b05e3",
   "metadata": {},
   "outputs": [
    {
     "data": {
      "text/plain": [
       "['-5', '-5', '-4/5']"
      ]
     },
     "execution_count": 27,
     "metadata": {},
     "output_type": "execute_result"
    }
   ],
   "source": [
    "[v.value for v in numerator_list]"
   ]
  },
  {
   "cell_type": "code",
   "execution_count": 40,
   "id": "55fd2929",
   "metadata": {},
   "outputs": [
    {
     "name": "stderr",
     "output_type": "stream",
     "text": [
      "The attention mask and the pad token id were not set. As a consequence, you may observe unexpected behavior. Please pass your input's `attention_mask` to obtain reliable results.\n",
      "Setting `pad_token_id` to `eos_token_id`:65 for open-end generation.\n"
     ]
    },
    {
     "data": {
      "text/plain": [
       "['<BEGIN>',\n",
       " '-5',\n",
       " '-5',\n",
       " '-4/5',\n",
       " '/',\n",
       " '5/4',\n",
       " '-5/3',\n",
       " '3/5',\n",
       " '1/2',\n",
       " '1/4',\n",
       " '3/4',\n",
       " '[SEP]',\n",
       " 'TT_ZERO',\n",
       " 'TT_INTEGER',\n",
       " 'TT_ZERO',\n",
       " 'TT_INTEGER',\n",
       " 'TT_DIVIDE',\n",
       " 'TT_MINUS',\n",
       " 'TT_INTEGER',\n",
       " 'TT_INTEGER',\n",
       " 'TT_INTEGER',\n",
       " 'TT_DIVIDE',\n",
       " 'TT_EULERGAMMA',\n",
       " 'TT_MINUS',\n",
       " 'TT_MULTIPLY',\n",
       " 'TT_INTEGER',\n",
       " 'TT_DIVIDE',\n",
       " 'TT_MINUS',\n",
       " 'TT_INTEGER',\n",
       " 'TT_PI',\n",
       " 'TT_MULTIPLY',\n",
       " 'TT_INTEGER',\n",
       " 'TT_INTEGER',\n",
       " 'TT_DIVIDE',\n",
       " 'TT_PLUS',\n",
       " 'TT_INTEGER',\n",
       " 'TT_DIVIDE',\n",
       " 'TT_INTEGER',\n",
       " 'TT_DIVIDE',\n",
       " 'TT_INTEGER',\n",
       " 'TT_DIVIDE',\n",
       " 'TT_INTEGER',\n",
       " 'TT_PI',\n",
       " 'TT_MULTIPLY',\n",
       " 'TT_INTEGER',\n",
       " 'TT_DIVIDE',\n",
       " 'TT_INTEGER',\n",
       " 'TT_DIVIDE',\n",
       " 'TT_INTEGER',\n",
       " 'TT_DIVIDE',\n",
       " 'TT_INTEGER',\n",
       " 'TT_DIVIDE',\n",
       " 'TT_INTEGER',\n",
       " 'TT_DIVIDE',\n",
       " 'TT_INTEGER',\n",
       " 'TT_DIVIDE',\n",
       " 'TT_INTEGER',\n",
       " 'TT_SQRT',\n",
       " 'TT_INTEGER',\n",
       " 'TT_PI',\n",
       " 'TT_MULTIPLY',\n",
       " 'TT_DIVIDE',\n",
       " 'TT_INTEGER',\n",
       " 'TT_DIVIDE',\n",
       " 'TT_INTEGER',\n",
       " 'TT_DIVIDE',\n",
       " 'TT_INTEGER',\n",
       " 'TT_DIVIDE',\n",
       " 'TT_INTEGER',\n",
       " 'TT_DIVIDE',\n",
       " 'TT_INTEGER',\n",
       " 'TT_DIVIDE',\n",
       " 'TT_INTEGER',\n",
       " 'TT_DIVIDE',\n",
       " 'TT_INTEGER',\n",
       " 'TT_DIVIDE',\n",
       " 'TT_INTEGER',\n",
       " 'TT_DIVIDE',\n",
       " 'TT_INTEGER',\n",
       " 'TT_DIVIDE',\n",
       " 'TT_INTEGER',\n",
       " 'TT_DIVIDE',\n",
       " 'TT_INTEGER',\n",
       " 'TT_DIVIDE',\n",
       " 'TT_INTEGER',\n",
       " 'TT_INTEGER',\n",
       " 'TT_SQRT',\n",
       " 'TT_INTEGER',\n",
       " 'TT_DIVIDE',\n",
       " 'TT_INTEGER',\n",
       " 'TT_DIVIDE',\n",
       " 'TT_INTEGER',\n",
       " 'TT_DIVIDE',\n",
       " 'TT_INTEGER',\n",
       " 'TT_DIVIDE',\n",
       " 'TT_INTEGER',\n",
       " 'TT_DIVIDE',\n",
       " 'TT_INTEGER',\n",
       " 'TT_SQRT',\n",
       " 'TT_INTEGER',\n",
       " 'TT_DIVIDE',\n",
       " 'TT_SQRT',\n",
       " 'TT_INTEGER',\n",
       " 'TT_DIVIDE',\n",
       " 'TT_SQRT',\n",
       " 'TT_INTEGER',\n",
       " 'TT_LOG',\n",
       " 'TT_MULTIPLY',\n",
       " 'TT_INTEGER',\n",
       " 'TT_DIVIDE',\n",
       " 'TT_MINUS',\n",
       " 'TT_INTEGER',\n",
       " 'TT_DIVIDE',\n",
       " 'TT_MINUS',\n",
       " 'TT_INTEGER',\n",
       " 'TT_DIVIDE',\n",
       " 'TT_MINUS',\n",
       " 'TT_INTEGER',\n",
       " 'TT_LOG',\n",
       " 'TT_MULTIPLY',\n",
       " 'TT_INTEGER',\n",
       " 'TT_DIVIDE',\n",
       " 'TT_MINUS',\n",
       " 'TT_INTEGER',\n",
       " 'TT_DIVIDE',\n",
       " 'TT_MINUS',\n",
       " 'TT_INTEGER',\n",
       " 'TT_DIVIDE',\n",
       " 'TT_MINUS',\n",
       " 'TT_INTEGER',\n",
       " 'TT_INTEGER',\n",
       " 'TT_INTEGER',\n",
       " 'TT_INTEGER',\n",
       " 'TT_INTEGER',\n",
       " 'TT_DIVIDE',\n",
       " 'TT_LOG',\n",
       " 'TT_MULTIPLY',\n",
       " 'TT_INTEGER',\n",
       " 'TT_INTEGER',\n",
       " 'TT_SQRT',\n",
       " 'TT_MINUS',\n",
       " 'TT_INTEGER',\n",
       " 'TT_DIVIDE',\n",
       " 'TT_MINUS',\n",
       " 'TT_INTEGER',\n",
       " 'TT_DIVIDE',\n",
       " 'TT_LOG',\n",
       " 'TT_MULTIPLY',\n",
       " 'TT_INTEGER',\n",
       " 'TT_INTEGER',\n",
       " 'TT_DIVIDE',\n",
       " 'TT_MINUS',\n",
       " 'TT_INTEGER',\n",
       " 'TT_INTEGER',\n",
       " 'TT_DIVIDE',\n",
       " 'TT_PLUS',\n",
       " 'TT_INTEGER',\n",
       " 'TT_INTEGER',\n",
       " 'TT_SQRT',\n",
       " 'TT_MINUS',\n",
       " 'TT_INTEGER',\n",
       " 'TT_DIVIDE',\n",
       " 'TT_LOG',\n",
       " 'TT_MULTIPLY',\n",
       " 'TT_INTEGER',\n",
       " 'TT_SQRT',\n",
       " 'TT_MINUS',\n",
       " 'TT_INTEGER',\n",
       " 'TT_INTEGER',\n",
       " 'TT_INTEGER',\n",
       " 'TT_DIVIDE',\n",
       " 'TT_MINUS',\n",
       " 'TT_INTEGER',\n",
       " 'TT_SQRT',\n",
       " 'TT_PLUS',\n",
       " 'TT_INTEGER',\n",
       " 'TT_DIVIDE',\n",
       " 'TT_LOG',\n",
       " 'TT_MULTIPLY',\n",
       " 'TT_INTEGER',\n",
       " 'TT_SQRT',\n",
       " 'TT_PLUS',\n",
       " 'TT_INTEGER',\n",
       " 'TT_SQRT',\n",
       " 'TT_PLUS',\n",
       " 'TT_INTEGER',\n",
       " 'TT_DIVIDE',\n",
       " 'TT_LOG',\n",
       " 'TT_MULTIPLY',\n",
       " 'TT_INTEGER',\n",
       " 'TT_DIVIDE',\n",
       " 'TT_LOG',\n",
       " 'TT_MULTIPLY',\n",
       " 'TT_INTEGER',\n",
       " 'TT_DIVIDE',\n",
       " 'TT_PLUS',\n",
       " 'TT_INTEGER',\n",
       " 'TT_INTEGER',\n",
       " 'TT_DIVIDE',\n",
       " 'TT_MINUS',\n",
       " 'TT_INTEGER',\n",
       " 'TT_DIVIDE',\n",
       " 'TT_LOG',\n",
       " 'TT_MULTIPLY',\n",
       " 'TT_INTEGER',\n",
       " 'TT_DIVIDE',\n",
       " 'TT_MINUS',\n",
       " 'TT_INTEGER',\n",
       " 'TT_INTEGER',\n",
       " 'TT_DIVIDE',\n",
       " 'TT_PLUS',\n",
       " 'TT_INTEGER',\n",
       " 'TT_DIVIDE',\n",
       " 'TT_MINUS',\n",
       " '<END>']"
      ]
     },
     "execution_count": 40,
     "metadata": {},
     "output_type": "execute_result"
    }
   ],
   "source": [
    "input_sum = vocabulary.vectorize(\n",
    "    [v.value for v in numerator_list] + [\"/\"] + [v.value for v in denominator_list]\n",
    ")[:-1] + [vocabulary.separator_index]\n",
    "input_sum = torch.LongTensor([input_sum])\n",
    "out = model.generate(input_sum)\n",
    "pred = [vocabulary.getToken(o.item()) for o in out[0]]\n",
    "pred"
   ]
  },
  {
   "cell_type": "code",
   "execution_count": null,
   "id": "a4e8b02e",
   "metadata": {},
   "outputs": [],
   "source": []
  },
  {
   "cell_type": "code",
   "execution_count": null,
   "id": "93e0ba4b",
   "metadata": {},
   "outputs": [],
   "source": []
  },
  {
   "cell_type": "code",
   "execution_count": null,
   "id": "b517cf72",
   "metadata": {},
   "outputs": [],
   "source": []
  },
  {
   "cell_type": "code",
   "execution_count": null,
   "id": "2d2c8093",
   "metadata": {},
   "outputs": [],
   "source": []
  }
 ],
 "metadata": {
  "kernelspec": {
   "display_name": "Python 3 (ipykernel)",
   "language": "python",
   "name": "python3"
  },
  "language_info": {
   "codemirror_mode": {
    "name": "ipython",
    "version": 3
   },
   "file_extension": ".py",
   "mimetype": "text/x-python",
   "name": "python",
   "nbconvert_exporter": "python",
   "pygments_lexer": "ipython3",
   "version": "3.10.7"
  }
 },
 "nbformat": 4,
 "nbformat_minor": 5
}
