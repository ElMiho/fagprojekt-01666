{
 "cells": [
  {
   "cell_type": "code",
   "execution_count": 11,
   "id": "03a140bf",
   "metadata": {},
   "outputs": [],
   "source": [
    "import torch\n",
    "\n",
    "from transformers import AutoModelForCausalLM, pipeline, GPT2LMHeadModel, GPT2Tokenizer\n",
    "\n",
    "import numpy as np\n",
    "import sympy as sp"
   ]
  },
  {
   "cell_type": "code",
   "execution_count": 12,
   "id": "2c3efd7f",
   "metadata": {},
   "outputs": [],
   "source": [
    "from model.tokens import Token, TOKEN_TYPE_EXPRESSIONS, TOKEN_TYPE_ANSWERS\n",
    "from model.equation_interpreter import Equation\n",
    "from model.vocabulary import Vocabulary\n",
    "from model.tokens import Token"
   ]
  },
  {
   "cell_type": "code",
   "execution_count": 13,
   "id": "eb53ab99",
   "metadata": {},
   "outputs": [],
   "source": [
    "from datasets import disable_caching\n",
    "disable_caching()"
   ]
  },
  {
   "cell_type": "code",
   "execution_count": 14,
   "id": "e87927a2",
   "metadata": {},
   "outputs": [],
   "source": [
    "# Create a combined vocabulary\n",
    "vocabulary = Vocabulary.construct_from_list(TOKEN_TYPE_EXPRESSIONS + TOKEN_TYPE_ANSWERS)\n",
    "vectorized_sample = vocabulary.vectorize([\"#\", \"/\", \"0\", \"-1\", \"[SEP]\", \"TT_INTEGER\"])\n",
    "vectorized_sample, [vocabulary.getToken(idx) for idx in vectorized_sample]\n",
    "\n",
    "# Global variables\n",
    "model_name = \"JustSumAI\"\n",
    "project_name = \"JustSumAI\"\n",
    "repo_name = f\"{model_name}_cleaned_gpt2_data\""
   ]
  },
  {
   "cell_type": "code",
   "execution_count": 15,
   "id": "b0ddfe40",
   "metadata": {},
   "outputs": [
    {
     "data": {
      "text/plain": [
       "(tensor([[1212,  318,  616, 5128, 8379,   13]]), torch.Size([1, 6]))"
      ]
     },
     "execution_count": 15,
     "metadata": {},
     "output_type": "execute_result"
    }
   ],
   "source": [
    "tokenizer = GPT2Tokenizer.from_pretrained('gpt2')\n",
    "\n",
    "input_text = \"This is my input sequence.\"\n",
    "input_ids = tokenizer.encode(input_text, return_tensors='pt')\n",
    "input_ids, input_ids.size()"
   ]
  },
  {
   "cell_type": "code",
   "execution_count": 16,
   "id": "502f365a",
   "metadata": {},
   "outputs": [
    {
     "data": {
      "text/plain": [
       "65"
      ]
     },
     "execution_count": 16,
     "metadata": {},
     "output_type": "execute_result"
    }
   ],
   "source": [
    "vocabulary.end_seq_index"
   ]
  },
  {
   "attachments": {},
   "cell_type": "markdown",
   "id": "937b64a1",
   "metadata": {},
   "source": [
    "# Load model"
   ]
  },
  {
   "cell_type": "code",
   "execution_count": 17,
   "id": "fce02561",
   "metadata": {},
   "outputs": [
    {
     "name": "stderr",
     "output_type": "stream",
     "text": [
      "Downloading pytorch_model.bin: 100%|██████████| 356M/356M [00:37<00:00, 9.42MB/s]\n",
      "Downloading (…)neration_config.json: 100%|██████████| 134/134 [00:00<00:00, 1.21MB/s]\n"
     ]
    },
    {
     "data": {
      "text/plain": [
       "GPT2LMHeadModel(\n",
       "  (transformer): GPT2Model(\n",
       "    (wte): Embedding(68, 768)\n",
       "    (wpe): Embedding(1024, 768)\n",
       "    (drop): Dropout(p=0.1, inplace=False)\n",
       "    (h): ModuleList(\n",
       "      (0-11): 12 x GPT2Block(\n",
       "        (ln_1): LayerNorm((768,), eps=1e-05, elementwise_affine=True)\n",
       "        (attn): GPT2Attention(\n",
       "          (c_attn): Conv1D()\n",
       "          (c_proj): Conv1D()\n",
       "          (attn_dropout): Dropout(p=0.1, inplace=False)\n",
       "          (resid_dropout): Dropout(p=0.1, inplace=False)\n",
       "        )\n",
       "        (ln_2): LayerNorm((768,), eps=1e-05, elementwise_affine=True)\n",
       "        (mlp): GPT2MLP(\n",
       "          (c_fc): Conv1D()\n",
       "          (c_proj): Conv1D()\n",
       "          (act): NewGELUActivation()\n",
       "          (dropout): Dropout(p=0.1, inplace=False)\n",
       "        )\n",
       "      )\n",
       "    )\n",
       "    (ln_f): LayerNorm((768,), eps=1e-05, elementwise_affine=True)\n",
       "  )\n",
       "  (lm_head): Linear(in_features=768, out_features=68, bias=False)\n",
       ")"
      ]
     },
     "execution_count": 17,
     "metadata": {},
     "output_type": "execute_result"
    }
   ],
   "source": [
    "model = GPT2LMHeadModel.from_pretrained(f\"Dragonoverlord3000/{model_name}\", force_download=True, revision=\"6512ca7619eafd2da815379268c73c4382b8d3a1\")\n",
    "model"
   ]
  },
  {
   "cell_type": "code",
   "execution_count": 39,
   "id": "80bd83fb",
   "metadata": {},
   "outputs": [
    {
     "data": {
      "text/plain": [
       "(tensor([64, 19, 39, 19, 19, 19, 67]), torch.Size([1, 7]))"
      ]
     },
     "execution_count": 39,
     "metadata": {},
     "output_type": "execute_result"
    }
   ],
   "source": [
    "test_example_ids = torch.LongTensor([vocabulary.vectorize([\"0\", \"/\", \"0\", \"0\", \"0\"])[:-1] + [vocabulary.separator_index]])\n",
    "test_example_ids[0], test_example_ids.size()"
   ]
  },
  {
   "cell_type": "code",
   "execution_count": 40,
   "id": "af631d5d",
   "metadata": {},
   "outputs": [
    {
     "name": "stdout",
     "output_type": "stream",
     "text": [
      "torch.Size([1, 7, 68])\n"
     ]
    },
    {
     "data": {
      "text/plain": [
       "['<BEGIN>', '0', '/', '0', '0', '0', 'TT_ZERO']"
      ]
     },
     "execution_count": 40,
     "metadata": {},
     "output_type": "execute_result"
    }
   ],
   "source": [
    "test = model(test_example_ids).logits\n",
    "print(test.size())\n",
    "[vocabulary.getToken(torch.argmax(o).item()) for o in test[0]]"
   ]
  },
  {
   "cell_type": "code",
   "execution_count": 41,
   "id": "9be1176a",
   "metadata": {},
   "outputs": [
    {
     "name": "stderr",
     "output_type": "stream",
     "text": [
      "/opt/homebrew/lib/python3.11/site-packages/transformers/generation/utils.py:1346: UserWarning: Using `max_length`'s default (227) to control the generation length. This behaviour is deprecated and will be removed from the config in v5 of Transformers -- we recommend using `max_new_tokens` to control the maximum length of the generation.\n",
      "  warnings.warn(\n"
     ]
    },
    {
     "data": {
      "text/plain": [
       "(tensor([[64, 19, 39, 19, 19, 19, 67, 51, 49, 59, 49, 44, 60, 58, 49, 49, 57, 60,\n",
       "          59, 49, 61, 65]]),\n",
       " torch.Size([1, 22]))"
      ]
     },
     "execution_count": 41,
     "metadata": {},
     "output_type": "execute_result"
    }
   ],
   "source": [
    "out = model.generate(test_example_ids, \n",
    "                     eos_token_id=vocabulary.end_seq_index, \n",
    "                     pad_token_id=vocabulary.mask_index)\n",
    "out, out.size()"
   ]
  },
  {
   "cell_type": "code",
   "execution_count": 42,
   "id": "acf8ef09",
   "metadata": {},
   "outputs": [
    {
     "data": {
      "text/plain": [
       "(['<BEGIN>',\n",
       "  '0',\n",
       "  '/',\n",
       "  '0',\n",
       "  '0',\n",
       "  '0',\n",
       "  '[SEP]',\n",
       "  'TT_ZERO',\n",
       "  'TT_INTEGER',\n",
       "  'TT_MINUS',\n",
       "  'TT_INTEGER',\n",
       "  'TT_PI',\n",
       "  'TT_MULTIPLY',\n",
       "  'TT_PLUS',\n",
       "  'TT_INTEGER',\n",
       "  'TT_INTEGER',\n",
       "  'TT_LOG',\n",
       "  'TT_MULTIPLY',\n",
       "  'TT_MINUS',\n",
       "  'TT_INTEGER',\n",
       "  'TT_DIVIDE',\n",
       "  '<END>'],\n",
       " 6)"
      ]
     },
     "execution_count": 42,
     "metadata": {},
     "output_type": "execute_result"
    }
   ],
   "source": [
    "l = [vocabulary.getToken(o.item()) for o in out[0]]\n",
    "l, l.index(\"[SEP]\")"
   ]
  },
  {
   "cell_type": "code",
   "execution_count": 43,
   "id": "f85abbc4",
   "metadata": {},
   "outputs": [
    {
     "data": {
      "text/plain": [
       "<model.equation_interpreter.Equation at 0x105fcced0>"
      ]
     },
     "execution_count": 43,
     "metadata": {},
     "output_type": "execute_result"
    }
   ],
   "source": [
    "eq = Equation([Token(vocabulary.getToken(o.item())) for o in out[0]][l.index(\"[SEP]\")+1:-1], notation=\"postfix\")\n",
    "eq"
   ]
  },
  {
   "cell_type": "code",
   "execution_count": 44,
   "id": "fdf6adad",
   "metadata": {},
   "outputs": [
    {
     "data": {
      "text/plain": [
       "'((((-Z)+(Z*Pi))-(Z*Log(Z)))/Z)'"
      ]
     },
     "execution_count": 44,
     "metadata": {},
     "output_type": "execute_result"
    }
   ],
   "source": [
    "eq.getMathemetaicalNotation()"
   ]
  },
  {
   "attachments": {},
   "cell_type": "markdown",
   "id": "2bd63a47",
   "metadata": {},
   "source": [
    "______"
   ]
  },
  {
   "cell_type": "code",
   "execution_count": 45,
   "id": "478ebbf3",
   "metadata": {
    "scrolled": true
   },
   "outputs": [
    {
     "data": {
      "text/latex": [
       "$\\displaystyle \\frac{\\Pi Z - Z \\operatorname{Log}{\\left(Z \\right)} - Z}{Z}$"
      ],
      "text/plain": [
       "(Pi*Z - Z*Log(Z) - Z)/Z"
      ]
     },
     "execution_count": 45,
     "metadata": {},
     "output_type": "execute_result"
    }
   ],
   "source": [
    "sp.parse_expr(eq.getMathemetaicalNotation(), evaluate=False)"
   ]
  },
  {
   "attachments": {},
   "cell_type": "markdown",
   "id": "02a975ad",
   "metadata": {},
   "source": [
    "### Accept user input"
   ]
  },
  {
   "cell_type": "code",
   "execution_count": 25,
   "id": "0aada31f",
   "metadata": {},
   "outputs": [
    {
     "ename": "ModuleNotFoundError",
     "evalue": "No module named 'ipywidgets'",
     "output_type": "error",
     "traceback": [
      "\u001b[0;31m---------------------------------------------------------------------------\u001b[0m",
      "\u001b[0;31mModuleNotFoundError\u001b[0m                       Traceback (most recent call last)",
      "Cell \u001b[0;32mIn[25], line 2\u001b[0m\n\u001b[1;32m      1\u001b[0m \u001b[39mfrom\u001b[39;00m \u001b[39mIPython\u001b[39;00m\u001b[39m.\u001b[39;00m\u001b[39mdisplay\u001b[39;00m \u001b[39mimport\u001b[39;00m display\n\u001b[0;32m----> 2\u001b[0m \u001b[39mimport\u001b[39;00m \u001b[39mipywidgets\u001b[39;00m \u001b[39mas\u001b[39;00m \u001b[39mwidgets\u001b[39;00m\n",
      "\u001b[0;31mModuleNotFoundError\u001b[0m: No module named 'ipywidgets'"
     ]
    }
   ],
   "source": [
    "from IPython.display import display\n",
    "import ipywidgets as widgets"
   ]
  },
  {
   "cell_type": "code",
   "execution_count": null,
   "id": "d8f196cc",
   "metadata": {},
   "outputs": [],
   "source": [
    "numerator_degree = 3\n",
    "denominator_degree = 6"
   ]
  },
  {
   "cell_type": "code",
   "execution_count": null,
   "id": "2277cb9f",
   "metadata": {},
   "outputs": [],
   "source": [
    "def parentherizer(val):\n",
    "    if \"-\" in val:\n",
    "        return f\"({val})\"\n",
    "    return val"
   ]
  },
  {
   "cell_type": "code",
   "execution_count": null,
   "id": "5dead073",
   "metadata": {},
   "outputs": [
    {
     "data": {
      "application/vnd.jupyter.widget-view+json": {
       "model_id": "ecee8279291a4b54957a871e9b417251",
       "version_major": 2,
       "version_minor": 0
      },
      "text/plain": [
       "interactive(children=(SelectionSlider(continuous_update=False, description='Root 1', options=('-5', '-4', '-3'…"
      ]
     },
     "metadata": {},
     "output_type": "display_data"
    }
   ],
   "source": [
    "math_display = widgets.HTMLMath(\n",
    "    value=f\"Sum Math\",\n",
    "    placeholder='',\n",
    "    description='',\n",
    ")\n",
    "\n",
    "numerator_list = [widgets.SelectionSlider(\n",
    "    options=TOKEN_TYPE_EXPRESSIONS[:-2],\n",
    "    value='-5',\n",
    "    description=f'Root {i+1}',\n",
    "    disabled=False,\n",
    "    continuous_update=False,\n",
    "    orientation='horizontal',\n",
    "    readout=True\n",
    ") for i in range(numerator_degree)]\n",
    "\n",
    "denominator_list = [\n",
    "    widgets.SelectionSlider(\n",
    "    options=TOKEN_TYPE_EXPRESSIONS[:-2],\n",
    "    value='-5',\n",
    "    description=f'Root {i+1}',\n",
    "    disabled=False,\n",
    "    continuous_update=False,\n",
    "    orientation='horizontal',\n",
    "    readout=True\n",
    ") for i in range(denominator_degree)]\n",
    "\n",
    "ui_1 = widgets.VBox(numerator_list)\n",
    "ui_2 = widgets.VBox(denominator_list)\n",
    "\n",
    "def f(**kwargs):\n",
    "    print(kwargs, list(kwargs))\n",
    "    sum_str = r\"$$\\sum_{n=1}^{\\infty}\\frac{\" + \"\".join([f\"(n - {parentherizer(kwargs[str(i)])})\" for i in range(numerator_degree)]) + \"}{\" + \"\".join([f\"(n - {parentherizer(kwargs[str(i + numerator_degree)])})\" for i in range(denominator_degree)]) + \"}\" + \"$$\"\n",
    "    math_display.value = sum_str\n",
    "    display(math_display)\n",
    "\n",
    "out = widgets.interactive(f, **{str(i):v for i,v in enumerate(numerator_list + denominator_list)})\n",
    "\n",
    "display(out)#ui_1, ui_2, out)"
   ]
  },
  {
   "cell_type": "code",
   "execution_count": null,
   "id": "611b05e3",
   "metadata": {},
   "outputs": [
    {
     "data": {
      "text/plain": [
       "['-5', '-5', '-4/5']"
      ]
     },
     "execution_count": 27,
     "metadata": {},
     "output_type": "execute_result"
    }
   ],
   "source": [
    "[v.value for v in numerator_list]"
   ]
  },
  {
   "cell_type": "code",
   "execution_count": null,
   "id": "55fd2929",
   "metadata": {},
   "outputs": [
    {
     "name": "stderr",
     "output_type": "stream",
     "text": [
      "The attention mask and the pad token id were not set. As a consequence, you may observe unexpected behavior. Please pass your input's `attention_mask` to obtain reliable results.\n",
      "Setting `pad_token_id` to `eos_token_id`:65 for open-end generation.\n"
     ]
    },
    {
     "data": {
      "text/plain": [
       "['<BEGIN>',\n",
       " '-5',\n",
       " '-5',\n",
       " '-4/5',\n",
       " '/',\n",
       " '5/4',\n",
       " '-5/3',\n",
       " '3/5',\n",
       " '1/2',\n",
       " '1/4',\n",
       " '3/4',\n",
       " '[SEP]',\n",
       " 'TT_ZERO',\n",
       " 'TT_INTEGER',\n",
       " 'TT_ZERO',\n",
       " 'TT_INTEGER',\n",
       " 'TT_DIVIDE',\n",
       " 'TT_MINUS',\n",
       " 'TT_INTEGER',\n",
       " 'TT_INTEGER',\n",
       " 'TT_INTEGER',\n",
       " 'TT_DIVIDE',\n",
       " 'TT_EULERGAMMA',\n",
       " 'TT_MINUS',\n",
       " 'TT_MULTIPLY',\n",
       " 'TT_INTEGER',\n",
       " 'TT_DIVIDE',\n",
       " 'TT_MINUS',\n",
       " 'TT_INTEGER',\n",
       " 'TT_PI',\n",
       " 'TT_MULTIPLY',\n",
       " 'TT_INTEGER',\n",
       " 'TT_INTEGER',\n",
       " 'TT_DIVIDE',\n",
       " 'TT_PLUS',\n",
       " 'TT_INTEGER',\n",
       " 'TT_DIVIDE',\n",
       " 'TT_INTEGER',\n",
       " 'TT_DIVIDE',\n",
       " 'TT_INTEGER',\n",
       " 'TT_DIVIDE',\n",
       " 'TT_INTEGER',\n",
       " 'TT_PI',\n",
       " 'TT_MULTIPLY',\n",
       " 'TT_INTEGER',\n",
       " 'TT_DIVIDE',\n",
       " 'TT_INTEGER',\n",
       " 'TT_DIVIDE',\n",
       " 'TT_INTEGER',\n",
       " 'TT_DIVIDE',\n",
       " 'TT_INTEGER',\n",
       " 'TT_DIVIDE',\n",
       " 'TT_INTEGER',\n",
       " 'TT_DIVIDE',\n",
       " 'TT_INTEGER',\n",
       " 'TT_DIVIDE',\n",
       " 'TT_INTEGER',\n",
       " 'TT_SQRT',\n",
       " 'TT_INTEGER',\n",
       " 'TT_PI',\n",
       " 'TT_MULTIPLY',\n",
       " 'TT_DIVIDE',\n",
       " 'TT_INTEGER',\n",
       " 'TT_DIVIDE',\n",
       " 'TT_INTEGER',\n",
       " 'TT_DIVIDE',\n",
       " 'TT_INTEGER',\n",
       " 'TT_DIVIDE',\n",
       " 'TT_INTEGER',\n",
       " 'TT_DIVIDE',\n",
       " 'TT_INTEGER',\n",
       " 'TT_DIVIDE',\n",
       " 'TT_INTEGER',\n",
       " 'TT_DIVIDE',\n",
       " 'TT_INTEGER',\n",
       " 'TT_DIVIDE',\n",
       " 'TT_INTEGER',\n",
       " 'TT_DIVIDE',\n",
       " 'TT_INTEGER',\n",
       " 'TT_DIVIDE',\n",
       " 'TT_INTEGER',\n",
       " 'TT_DIVIDE',\n",
       " 'TT_INTEGER',\n",
       " 'TT_DIVIDE',\n",
       " 'TT_INTEGER',\n",
       " 'TT_INTEGER',\n",
       " 'TT_SQRT',\n",
       " 'TT_INTEGER',\n",
       " 'TT_DIVIDE',\n",
       " 'TT_INTEGER',\n",
       " 'TT_DIVIDE',\n",
       " 'TT_INTEGER',\n",
       " 'TT_DIVIDE',\n",
       " 'TT_INTEGER',\n",
       " 'TT_DIVIDE',\n",
       " 'TT_INTEGER',\n",
       " 'TT_DIVIDE',\n",
       " 'TT_INTEGER',\n",
       " 'TT_SQRT',\n",
       " 'TT_INTEGER',\n",
       " 'TT_DIVIDE',\n",
       " 'TT_SQRT',\n",
       " 'TT_INTEGER',\n",
       " 'TT_DIVIDE',\n",
       " 'TT_SQRT',\n",
       " 'TT_INTEGER',\n",
       " 'TT_LOG',\n",
       " 'TT_MULTIPLY',\n",
       " 'TT_INTEGER',\n",
       " 'TT_DIVIDE',\n",
       " 'TT_MINUS',\n",
       " 'TT_INTEGER',\n",
       " 'TT_DIVIDE',\n",
       " 'TT_MINUS',\n",
       " 'TT_INTEGER',\n",
       " 'TT_DIVIDE',\n",
       " 'TT_MINUS',\n",
       " 'TT_INTEGER',\n",
       " 'TT_LOG',\n",
       " 'TT_MULTIPLY',\n",
       " 'TT_INTEGER',\n",
       " 'TT_DIVIDE',\n",
       " 'TT_MINUS',\n",
       " 'TT_INTEGER',\n",
       " 'TT_DIVIDE',\n",
       " 'TT_MINUS',\n",
       " 'TT_INTEGER',\n",
       " 'TT_DIVIDE',\n",
       " 'TT_MINUS',\n",
       " 'TT_INTEGER',\n",
       " 'TT_INTEGER',\n",
       " 'TT_INTEGER',\n",
       " 'TT_INTEGER',\n",
       " 'TT_INTEGER',\n",
       " 'TT_DIVIDE',\n",
       " 'TT_LOG',\n",
       " 'TT_MULTIPLY',\n",
       " 'TT_INTEGER',\n",
       " 'TT_INTEGER',\n",
       " 'TT_SQRT',\n",
       " 'TT_MINUS',\n",
       " 'TT_INTEGER',\n",
       " 'TT_DIVIDE',\n",
       " 'TT_MINUS',\n",
       " 'TT_INTEGER',\n",
       " 'TT_DIVIDE',\n",
       " 'TT_LOG',\n",
       " 'TT_MULTIPLY',\n",
       " 'TT_INTEGER',\n",
       " 'TT_INTEGER',\n",
       " 'TT_DIVIDE',\n",
       " 'TT_MINUS',\n",
       " 'TT_INTEGER',\n",
       " 'TT_INTEGER',\n",
       " 'TT_DIVIDE',\n",
       " 'TT_PLUS',\n",
       " 'TT_INTEGER',\n",
       " 'TT_INTEGER',\n",
       " 'TT_SQRT',\n",
       " 'TT_MINUS',\n",
       " 'TT_INTEGER',\n",
       " 'TT_DIVIDE',\n",
       " 'TT_LOG',\n",
       " 'TT_MULTIPLY',\n",
       " 'TT_INTEGER',\n",
       " 'TT_SQRT',\n",
       " 'TT_MINUS',\n",
       " 'TT_INTEGER',\n",
       " 'TT_INTEGER',\n",
       " 'TT_INTEGER',\n",
       " 'TT_DIVIDE',\n",
       " 'TT_MINUS',\n",
       " 'TT_INTEGER',\n",
       " 'TT_SQRT',\n",
       " 'TT_PLUS',\n",
       " 'TT_INTEGER',\n",
       " 'TT_DIVIDE',\n",
       " 'TT_LOG',\n",
       " 'TT_MULTIPLY',\n",
       " 'TT_INTEGER',\n",
       " 'TT_SQRT',\n",
       " 'TT_PLUS',\n",
       " 'TT_INTEGER',\n",
       " 'TT_SQRT',\n",
       " 'TT_PLUS',\n",
       " 'TT_INTEGER',\n",
       " 'TT_DIVIDE',\n",
       " 'TT_LOG',\n",
       " 'TT_MULTIPLY',\n",
       " 'TT_INTEGER',\n",
       " 'TT_DIVIDE',\n",
       " 'TT_LOG',\n",
       " 'TT_MULTIPLY',\n",
       " 'TT_INTEGER',\n",
       " 'TT_DIVIDE',\n",
       " 'TT_PLUS',\n",
       " 'TT_INTEGER',\n",
       " 'TT_INTEGER',\n",
       " 'TT_DIVIDE',\n",
       " 'TT_MINUS',\n",
       " 'TT_INTEGER',\n",
       " 'TT_DIVIDE',\n",
       " 'TT_LOG',\n",
       " 'TT_MULTIPLY',\n",
       " 'TT_INTEGER',\n",
       " 'TT_DIVIDE',\n",
       " 'TT_MINUS',\n",
       " 'TT_INTEGER',\n",
       " 'TT_INTEGER',\n",
       " 'TT_DIVIDE',\n",
       " 'TT_PLUS',\n",
       " 'TT_INTEGER',\n",
       " 'TT_DIVIDE',\n",
       " 'TT_MINUS',\n",
       " '<END>']"
      ]
     },
     "execution_count": 40,
     "metadata": {},
     "output_type": "execute_result"
    }
   ],
   "source": [
    "input_sum = vocabulary.vectorize(\n",
    "    [v.value for v in numerator_list] + [\"/\"] + [v.value for v in denominator_list]\n",
    ")[:-1] + [vocabulary.separator_index]\n",
    "input_sum = torch.LongTensor([input_sum])\n",
    "out = model.generate(input_sum)\n",
    "pred = [vocabulary.getToken(o.item()) for o in out[0]]\n",
    "pred"
   ]
  },
  {
   "cell_type": "code",
   "execution_count": null,
   "id": "a4e8b02e",
   "metadata": {},
   "outputs": [],
   "source": []
  },
  {
   "cell_type": "code",
   "execution_count": null,
   "id": "93e0ba4b",
   "metadata": {},
   "outputs": [],
   "source": []
  },
  {
   "cell_type": "code",
   "execution_count": null,
   "id": "b517cf72",
   "metadata": {},
   "outputs": [],
   "source": []
  },
  {
   "cell_type": "code",
   "execution_count": null,
   "id": "2d2c8093",
   "metadata": {},
   "outputs": [],
   "source": []
  }
 ],
 "metadata": {
  "kernelspec": {
   "display_name": "Python 3 (ipykernel)",
   "language": "python",
   "name": "python3"
  },
  "language_info": {
   "codemirror_mode": {
    "name": "ipython",
    "version": 3
   },
   "file_extension": ".py",
   "mimetype": "text/x-python",
   "name": "python",
   "nbconvert_exporter": "python",
   "pygments_lexer": "ipython3",
   "version": "3.11.2"
  }
 },
 "nbformat": 4,
 "nbformat_minor": 5
}
