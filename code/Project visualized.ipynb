{
 "cells": [
  {
   "cell_type": "code",
   "execution_count": 1,
   "id": "0b68c207",
   "metadata": {},
   "outputs": [],
   "source": [
    "# External libraries\n",
    "## NN specifics \n",
    "from transformers import AutoModel, AutoTokenizer, GPT2LMHeadModel\n",
    "import torch\n",
    "\n",
    "## General utilities\n",
    "import matplotlib.pyplot as plt\n",
    "from typing import List\n",
    "import seaborn as sns\n",
    "from tqdm import tqdm\n",
    "import numpy as np\n",
    "import sympy as sp\n",
    "import linecache\n",
    "import json\n",
    "\n",
    "## For setting up the local server\n",
    "import threading\n",
    "from flask import Flask, request, jsonify\n",
    "from flask_cors import CORS, cross_origin\n",
    "\n",
    "#\n",
    "import latex2mathml.converter"
   ]
  },
  {
   "cell_type": "code",
   "execution_count": 2,
   "id": "380197ce",
   "metadata": {
    "scrolled": true
   },
   "outputs": [
    {
     "name": "stderr",
     "output_type": "stream",
     "text": [
      "C:\\Users\\Hugo\\AppData\\Local\\Temp\\ipykernel_21540\\976570212.py:3: DeprecationWarning: Importing display from IPython.core.display is deprecated since IPython 7.14, please import from IPython display\n",
      "  from IPython.core.display import HTML, display, clear_output\n",
      "C:\\Users\\Hugo\\AppData\\Local\\Temp\\ipykernel_21540\\976570212.py:3: DeprecationWarning: Importing clear_output from IPython.core.display is deprecated since IPython 7.14, please import from IPython display\n",
      "  from IPython.core.display import HTML, display, clear_output\n"
     ]
    }
   ],
   "source": [
    "# IPython environment\n",
    "import ipywidgets as widgets\n",
    "from IPython.core.display import HTML, display, clear_output"
   ]
  },
  {
   "cell_type": "code",
   "execution_count": 3,
   "id": "c8977900",
   "metadata": {},
   "outputs": [],
   "source": [
    "# Domestic Imports\n",
    "from model.vocabulary import Vocabulary\n",
    "from model.equation_interpreter import Equation\n",
    "from model.tokens import TOKEN_TYPE_ANSWERS, TOKEN_TYPE_EXPRESSIONS, Token"
   ]
  },
  {
   "cell_type": "markdown",
   "id": "70ea1e28",
   "metadata": {},
   "source": [
    "### Meta stuff"
   ]
  },
  {
   "cell_type": "code",
   "execution_count": 4,
   "id": "3f56fd00",
   "metadata": {},
   "outputs": [
    {
     "data": {
      "text/plain": [
       "['#', '/', '-2', '-2', '-10', '-8', '-9', '-8', '-10', '-5', '-6', '-4']"
      ]
     },
     "execution_count": 4,
     "metadata": {},
     "output_type": "execute_result"
    }
   ],
   "source": [
    "def sum2tokens(mathematica_sum):\n",
    "    \"\"\"\n",
    "    Example:\n",
    "        '{{}, {-2, -2, -10, -8, -9, -8, -10, -5, -6, -4}}\\n' ---> ['#', '/', '-2', '-2', '-10', '-8', '-9', '-8', '-10', '-5', '-6', '-4']\n",
    "\n",
    "    \"\"\"\n",
    "    LHS, RHS = mathematica_sum.split(\"}, {\")\n",
    "    LHS, RHS = LHS.lstrip(\"{\"), RHS.rstrip(\"\\n\").rstrip(\"}\")\n",
    "    if len(LHS) == 0:\n",
    "        LHS = [\"#\"]\n",
    "    else:\n",
    "        LHS = LHS.split(\", \")\n",
    "    RHS = RHS.split(\", \")    \n",
    "    return LHS + [\"/\"] + RHS\n",
    "sum2tokens('{{}, {-2, -2, -10, -8, -9, -8, -10, -5, -6, -4}}\\n')"
   ]
  },
  {
   "cell_type": "code",
   "execution_count": 5,
   "id": "ce1fe65c",
   "metadata": {},
   "outputs": [
    {
     "data": {
      "text/plain": [
       "['TT_INTEGER',\n",
       " 'TT_INTEGER',\n",
       " 'TT_PI',\n",
       " 'TT_INTEGER',\n",
       " 'TT_POW',\n",
       " 'TT_MULTIPLY',\n",
       " 'TT_MINUS',\n",
       " 'TT_INTEGER',\n",
       " 'TT_DIVIDE']"
      ]
     },
     "execution_count": 5,
     "metadata": {},
     "output_type": "execute_result"
    }
   ],
   "source": [
    "def answer2tokens(answer):\n",
    "    \"\"\"\n",
    "    Example:\n",
    "        '(571057069 - 57859200*Pi^2)/1365590016000\\n' ---> [Token(TT_INTEGER), Token(TT_INTEGER), Token(TT_PI), Token(TT_INTEGER), Token(TT_POW), Token(TT_MULTIPLY), Token(TT_MINUS), Token(TT_INTEGER), Token(TT_DIVIDE)]\n",
    "    \"\"\"\n",
    "    equation = Equation.makeEquationFromString(answer)\n",
    "    equation.convertToPostfix()\n",
    "    if equation.notation != \"postfix\": return None\n",
    "    return [token.t_type for token in equation.tokenized_equation]\n",
    "answer2tokens('(571057069 - 57859200*Pi^2)/1365590016000\\n')"
   ]
  },
  {
   "cell_type": "code",
   "execution_count": 6,
   "id": "f596e626",
   "metadata": {},
   "outputs": [],
   "source": [
    "data_sums_fp = \"./data/random-expressions-partition-8-4-2023.txt\"\n",
    "data_answers_fp = \"./data/random-answers-partition-8-4-2023.txt\""
   ]
  },
  {
   "cell_type": "code",
   "execution_count": 7,
   "id": "3f0a16f1",
   "metadata": {},
   "outputs": [
    {
     "data": {
      "text/plain": [
       "4000009"
      ]
     },
     "execution_count": 7,
     "metadata": {},
     "output_type": "execute_result"
    }
   ],
   "source": [
    "raw_dataset_size = sum(1 for _ in open(data_sums_fp))\n",
    "raw_dataset_size"
   ]
  },
  {
   "cell_type": "code",
   "execution_count": 8,
   "id": "9468a195",
   "metadata": {},
   "outputs": [],
   "source": [
    "# Counts the number of equations a given token can be found in\n",
    "token_freq = {token[3:]:0 for token in TOKEN_TYPE_ANSWERS + [\"TT_ZETA\", \"TT_POLYGAMMA\", \"TT_ROOTSUM\", \"TT_ROOT\"] if token not in [\"TT_RATIONAL\", \"TT_LEFT_PARENTHESIS\", \"TT_RIGHT_PARENTHESIS\", \"TT_VARIABLE\"]}"
   ]
  },
  {
   "cell_type": "code",
   "execution_count": 9,
   "id": "ce523fee",
   "metadata": {
    "scrolled": true
   },
   "outputs": [],
   "source": [
    "# #####################################################\n",
    "# # Takes 2 hours to run, so run only once, use after #\n",
    "# #####################################################\n",
    "# sumdeg2numaborted = {}\n",
    "# for line_number, (raw_equation, raw_sum) in tqdm(enumerate(zip(open(data_answers_fp), open(data_sums_fp))), total=raw_dataset_size):\n",
    "#     if raw_equation == \"$Aborted\\n\":\n",
    "#         sum_deg = len(sum2tokens(raw_sum)) - 1 # -1 for the \"/\" \n",
    "#         if sum_deg in sumdeg2numaborted:\n",
    "#             sumdeg2numaborted[sum_deg] += 1\n",
    "#         else:\n",
    "#             sumdeg2numaborted[sum_deg] = 1\n",
    "#         continue\n",
    "#     equation = Equation.makeEquationFromString(raw_equation)\n",
    "#     if not equation.tokenized_equation:\n",
    "#         if \"Zeta\" in raw_equation:\n",
    "#             token_freq[\"ZETA\"] += 1\n",
    "#         if \"PolyGamma\" in raw_equation:\n",
    "#             token_freq[\"POLYGAMMA\"] += 1\n",
    "#         if \"RootSum\" in raw_equation:\n",
    "#             token_freq[\"ROOTSUM\"] += 1\n",
    "#         if \"Root[\" in raw_equation: # the \"[\" is to differentiate between Root[*] and the \"Root\" in RootSum\n",
    "#             token_freq[\"ROOT\"] += 1\n",
    "#         continue\n",
    "            \n",
    "#     equation.convertToPostfix()\n",
    "#     if equation.notation == \"infix\": continue\n",
    "\n",
    "#     for token in equation.tokenized_equation:\n",
    "#         token_freq[token.t_type[3:]] += 1"
   ]
  },
  {
   "cell_type": "code",
   "execution_count": 10,
   "id": "d577e4ea",
   "metadata": {},
   "outputs": [],
   "source": [
    "with open(\"./sumdeg2numaborted.json\", \"r\") as f:\n",
    "    sumdeg2numaborted = json.load(f)\n",
    "f.close()\n",
    "with open(\"./token_freq.json\", \"r\") as f:\n",
    "    token_freq = json.load(f)\n",
    "f.close()"
   ]
  },
  {
   "cell_type": "code",
   "execution_count": 11,
   "id": "1b7683e6",
   "metadata": {},
   "outputs": [
    {
     "data": {
      "text/plain": [
       "(13, 22)"
      ]
     },
     "execution_count": 11,
     "metadata": {},
     "output_type": "execute_result"
    }
   ],
   "source": [
    "len(sumdeg2numaborted), len(token_freq)"
   ]
  },
  {
   "cell_type": "markdown",
   "id": "56cad582",
   "metadata": {},
   "source": [
    "# Data Analysis"
   ]
  },
  {
   "cell_type": "markdown",
   "id": "af32197b",
   "metadata": {},
   "source": [
    "### Dataset information content"
   ]
  },
  {
   "cell_type": "code",
   "execution_count": 12,
   "id": "669d87a3",
   "metadata": {},
   "outputs": [],
   "source": [
    "# Takes ~ 2 hours\n",
    "# unique = set()\n",
    "# count = 0\n",
    "# for answer in tqdm(open(data_answers_fp), total=raw_dataset_size):\n",
    "#     answer = answer[:-1]\n",
    "#     if answer == \"$Aborted\": continue\n",
    "#     eq = Equation.makeEquationFromString(answer)\n",
    "#     eq.convertToPostfix()\n",
    "#     if eq.notation != \"postfix\": continue\n",
    "#     unique.add((t.t_type for t in eq.tokenized_equation))\n",
    "#     count += 1\n",
    "# len(unique), count"
   ]
  },
  {
   "cell_type": "code",
   "execution_count": 13,
   "id": "543f02f4",
   "metadata": {},
   "outputs": [],
   "source": [
    "# len(unique), count"
   ]
  },
  {
   "cell_type": "markdown",
   "id": "9589cd5b",
   "metadata": {},
   "source": [
    "### Dataset Decisions\n",
    "Abortion rate of given data plot"
   ]
  },
  {
   "cell_type": "code",
   "execution_count": 14,
   "id": "44633ac2",
   "metadata": {},
   "outputs": [
    {
     "data": {
      "image/png": "[encoded data removed]",
      "text/plain": [
       "<Figure size 640x480 with 1 Axes>"
      ]
     },
     "metadata": {},
     "output_type": "display_data"
    },
    {
     "data": {
      "text/html": [
       "<style>.output_png { display: table-cell; text-align: center; vertical-align: middle; }</style>"
      ],
      "text/plain": [
       "<IPython.core.display.HTML object>"
      ]
     },
     "execution_count": 14,
     "metadata": {},
     "output_type": "execute_result"
    }
   ],
   "source": [
    "total_aborted = sum(sumdeg2numaborted.values())\n",
    "\n",
    "plt.xticks(rotation=80)\n",
    "plt.tight_layout()\n",
    "\n",
    "ax = sns.barplot([[v*100/total_aborted] for _,v in sorted(sumdeg2numaborted.items(), key = lambda v: int(v[0]))])\n",
    "\n",
    "ax.set_xticks(range(len(sumdeg2numaborted)))\n",
    "ax.set_xticklabels(sorted([k for k,_ in sorted(sumdeg2numaborted.items(), key = lambda v: int(v[0]))], key=lambda v: int(v)), fontsize=10)\n",
    "plt.title(\"$Aborted per sumdegree\")\n",
    "plt.ylabel(\"Frequency scores [%]\")\n",
    "plt.xlabel(\"Sum degree\")\n",
    "plt.show()\n",
    "\n",
    "HTML(\"<style>.output_png { display: table-cell; text-align: center; vertical-align: middle; }</style>\") # To center the plot"
   ]
  },
  {
   "cell_type": "markdown",
   "id": "5dcefbdf",
   "metadata": {},
   "source": [
    "### Token frequency\n",
    "To get a good picture of the frequency differences, try turning off the most frequent tokens"
   ]
  },
  {
   "cell_type": "code",
   "execution_count": 15,
   "id": "bae81441",
   "metadata": {},
   "outputs": [
    {
     "data": {
      "text/plain": [
       "{'PI': 69095147,\n",
       " 'E': 0,\n",
       " 'PHI': 0,\n",
       " 'CATALAN': 175129,\n",
       " 'EULERGAMMA': 15542336,\n",
       " 'INTEGER': 809657537,\n",
       " 'ZERO': 23608289,\n",
       " 'ONE': 3509987,\n",
       " 'SQRT': 215904196,\n",
       " 'SIN': 0,\n",
       " 'COS': 0,\n",
       " 'TAN': 0,\n",
       " 'LOG': 106694869,\n",
       " 'PLUS': 148947959,\n",
       " 'MINUS': 175549958,\n",
       " 'MULTIPLY': 338236488,\n",
       " 'DIVIDE': 240009482,\n",
       " 'POW': 512612,\n",
       " 'ZETA': 94009,\n",
       " 'POLYGAMMA': 2910400,\n",
       " 'ROOTSUM': 2329045,\n",
       " 'ROOT': 992}"
      ]
     },
     "execution_count": 15,
     "metadata": {},
     "output_type": "execute_result"
    }
   ],
   "source": [
    "token_freq"
   ]
  },
  {
   "cell_type": "code",
   "execution_count": 16,
   "id": "7d847f53",
   "metadata": {},
   "outputs": [
    {
     "data": {
      "application/vnd.jupyter.widget-view+json": {
       "model_id": "cfa4d8cd4ea54b1bab0520751061536f",
       "version_major": 2,
       "version_minor": 0
      },
      "text/plain": [
       "VBox(children=(HBox(children=(Button(description='PI', style=ButtonStyle(button_color='#90ee90')), Button(desc…"
      ]
     },
     "metadata": {},
     "output_type": "display_data"
    },
    {
     "data": {
      "image/png": "[encoded data removed]",
      "text/plain": [
       "<Figure size 640x480 with 1 Axes>"
      ]
     },
     "metadata": {},
     "output_type": "display_data"
    }
   ],
   "source": [
    "n = len(token_freq)\n",
    "S = sum(token_freq.values())\n",
    "initial_ban_list = {token for token,freq in token_freq.items() if freq == 0}\n",
    "buttons = [widgets.Button(description=token, style={\"button_color\": (\"red\" if token in initial_ban_list else \"#90ee90\")}) for token in token_freq]\n",
    "\n",
    "# Plotter function\n",
    "def frequency_plotter():\n",
    "    banned = set()\n",
    "    for button in buttons:\n",
    "        if button.style.button_color == \"red\": \n",
    "            banned.add(\"TT_\" + button.description)\n",
    "\n",
    "    plt.xticks(rotation=80)\n",
    "    plt.tight_layout()\n",
    "\n",
    "    ax = sns.barplot([[v*100/sum(v for t,v in token_freq.items() if \"TT_\" + t not in banned)] for t,v in token_freq.items() if \"TT_\" + t not in banned])\n",
    "\n",
    "    ax.set_xticks(range(len(token_freq) - len(banned)))\n",
    "    ax.set_xticklabels([token for token in token_freq.keys() if \"TT_\" + token not in banned], fontsize=7)\n",
    "    plt.title(\"Frequency scores\")\n",
    "    plt.ylabel(\"Frequency scores\")\n",
    "    plt.show()\n",
    "\n",
    "# Function to change color when button is clicked\n",
    "def on_button_click(button):\n",
    "    if button.style.button_color == '#90ee90':\n",
    "        button.style.button_color = 'red'\n",
    "    else:\n",
    "        button.style.button_color = '#90ee90'\n",
    "    clear_output(wait=True)  # Clear the output of the cell\n",
    "    display(widgets.VBox([widgets.HBox(buttons[:n//2]), widgets.HBox(buttons[n//2:])]))  # Redisplay the buttons\n",
    "    frequency_plotter()  # Call the plotter function again\n",
    "\n",
    "for button in buttons:\n",
    "    button.on_click(on_button_click)\n",
    "\n",
    "row1 = widgets.HBox(buttons[:n//2])\n",
    "row2 = widgets.HBox(buttons[n//2:])\n",
    "display(widgets.VBox([row1, row2]))\n",
    "frequency_plotter()"
   ]
  },
  {
   "cell_type": "markdown",
   "id": "69390130",
   "metadata": {},
   "source": [
    "# LLM"
   ]
  },
  {
   "cell_type": "code",
   "execution_count": 17,
   "id": "c56db143",
   "metadata": {},
   "outputs": [],
   "source": [
    "model_id = \"Dragonoverlord3000/JustSumAI2\"\n",
    "# revision = \"477033a6aee0b41770035aedfe86692e4f03b585\" # Should be changed to a newer version"
   ]
  },
  {
   "cell_type": "markdown",
   "id": "e52fd30e",
   "metadata": {},
   "source": [
    "### Why not $\\mathbb{Z}$?\n",
    "To see that by far the majority of polynomials, of the form we're considering, will evaluate to $\\frac{Z}{Z}$ or $\\frac{Z}{Z} + \\frac{Z}{Z}\\pi^Z$, consider the following equality for both $a,b \\in \\mathbb{Q}$ and for $a,b \\in \\mathbb{Z}$ respectively:\n",
    "\\begin{equation}\n",
    "\\frac{n-a}{n-b} = 1 + \\frac{b - a}{n - b}\n",
    "\\end{equation}\n",
    "Clearly $\\sum\\limits_{n=1}^\\infty \\frac{1}{(n-a)(n-b)}$ is a rational number, when $a,b \\in \\mathbb{Z}$ and $a \\neq b$ and also clearly when $a = b$ we get $\\frac{Z}{Z}\\pi^Z$. "
   ]
  },
  {
   "cell_type": "markdown",
   "id": "57baf620",
   "metadata": {},
   "source": [
    "## Initial model - 2"
   ]
  },
  {
   "cell_type": "code",
   "execution_count": null,
   "id": "2a0a6b67",
   "metadata": {},
   "outputs": [],
   "source": []
  },
  {
   "cell_type": "code",
   "execution_count": null,
   "id": "5426f24f",
   "metadata": {},
   "outputs": [],
   "source": []
  },
  {
   "cell_type": "markdown",
   "id": "4ffb70fd",
   "metadata": {},
   "source": [
    "## Initial model - 1"
   ]
  },
  {
   "cell_type": "code",
   "execution_count": 18,
   "id": "2409132d",
   "metadata": {},
   "outputs": [],
   "source": [
    "# model = AutoModel.from_pretrained(model_id, force_download=True)\n",
    "# tokenizer = AutoTokenizer.from_pretrained(model_id, force_download=True)\n",
    "# print(model, tokenizer)\n",
    "# encoded_test = tokenizer.encode(\"# / -1/5 0 [SEP] TT_INTEGER\")\n",
    "# decoded_test = tokenizer.decode(encoded_test)\n",
    "# print(encoded_test, decoded_test)\n",
    "# print(tokenizer.get_vocab())\n",
    "# from transformers import pipeline\n",
    "\n",
    "# generation = pipeline(\"text-generation\", model=model_id)\n",
    "# generation(\"# / 0 0 [SEP]\")"
   ]
  },
  {
   "cell_type": "code",
   "execution_count": 19,
   "id": "70e0ab31",
   "metadata": {},
   "outputs": [
    {
     "data": {
      "application/vnd.jupyter.widget-view+json": {
       "model_id": "215817d35e564da3bb91be3865f3bf91",
       "version_major": 2,
       "version_minor": 0
      },
      "text/plain": [
       "Downloading (…)lve/main/config.json:   0%|          | 0.00/943 [00:00<?, ?B/s]"
      ]
     },
     "metadata": {},
     "output_type": "display_data"
    },
    {
     "name": "stderr",
     "output_type": "stream",
     "text": [
      "C:\\Users\\Hugo\\AppData\\Local\\Programs\\Python\\Python310\\lib\\site-packages\\huggingface_hub\\file_download.py:133: UserWarning: `huggingface_hub` cache-system uses symlinks by default to efficiently store duplicated files but your machine does not support them in C:\\Users\\Hugo\\.cache\\huggingface\\hub. Caching files will still work but in a degraded version that might require more space on your disk. This warning can be disabled by setting the `HF_HUB_DISABLE_SYMLINKS_WARNING` environment variable. For more details, see https://huggingface.co/docs/huggingface_hub/how-to-cache#limitations.\n",
      "To support symlinks on Windows, you either need to activate Developer Mode or to run Python as an administrator. In order to see activate developer mode, see this article: https://docs.microsoft.com/en-us/windows/apps/get-started/enable-your-device-for-development\n",
      "  warnings.warn(message)\n"
     ]
    },
    {
     "data": {
      "application/vnd.jupyter.widget-view+json": {
       "model_id": "e9c5774326dc41dfb3c5b334e7940a37",
       "version_major": 2,
       "version_minor": 0
      },
      "text/plain": [
       "Downloading pytorch_model.bin:   0%|          | 0.00/356M [00:00<?, ?B/s]"
      ]
     },
     "metadata": {},
     "output_type": "display_data"
    },
    {
     "data": {
      "application/vnd.jupyter.widget-view+json": {
       "model_id": "1553f20bc2cf4e509649365c4e3ad5fa",
       "version_major": 2,
       "version_minor": 0
      },
      "text/plain": [
       "Downloading (…)neration_config.json:   0%|          | 0.00/134 [00:00<?, ?B/s]"
      ]
     },
     "metadata": {},
     "output_type": "display_data"
    },
    {
     "data": {
      "text/plain": [
       "GPT2LMHeadModel(\n",
       "  (transformer): GPT2Model(\n",
       "    (wte): Embedding(68, 768)\n",
       "    (wpe): Embedding(1024, 768)\n",
       "    (drop): Dropout(p=0.1, inplace=False)\n",
       "    (h): ModuleList(\n",
       "      (0-11): 12 x GPT2Block(\n",
       "        (ln_1): LayerNorm((768,), eps=1e-05, elementwise_affine=True)\n",
       "        (attn): GPT2Attention(\n",
       "          (c_attn): Conv1D()\n",
       "          (c_proj): Conv1D()\n",
       "          (attn_dropout): Dropout(p=0.1, inplace=False)\n",
       "          (resid_dropout): Dropout(p=0.1, inplace=False)\n",
       "        )\n",
       "        (ln_2): LayerNorm((768,), eps=1e-05, elementwise_affine=True)\n",
       "        (mlp): GPT2MLP(\n",
       "          (c_fc): Conv1D()\n",
       "          (c_proj): Conv1D()\n",
       "          (act): NewGELUActivation()\n",
       "          (dropout): Dropout(p=0.1, inplace=False)\n",
       "        )\n",
       "      )\n",
       "    )\n",
       "    (ln_f): LayerNorm((768,), eps=1e-05, elementwise_affine=True)\n",
       "  )\n",
       "  (lm_head): Linear(in_features=768, out_features=68, bias=False)\n",
       ")"
      ]
     },
     "execution_count": 19,
     "metadata": {},
     "output_type": "execute_result"
    }
   ],
   "source": [
    "model = GPT2LMHeadModel.from_pretrained(f\"Dragonoverlord3000/JustSumAI\", force_download=True)#, revision=\"6512ca7619eafd2da815379268c73c4382b8d3a1\")\n",
    "model"
   ]
  },
  {
   "cell_type": "code",
   "execution_count": 20,
   "id": "dc005af2",
   "metadata": {},
   "outputs": [
    {
     "name": "stderr",
     "output_type": "stream",
     "text": [
      "C:\\Users\\Hugo\\AppData\\Local\\Programs\\Python\\Python310\\lib\\site-packages\\transformers\\generation\\utils.py:1288: UserWarning: Using `max_length`'s default (227) to control the generation length. This behaviour is deprecated and will be removed from the config in v5 of Transformers -- we recommend using `max_new_tokens` to control the maximum length of the generation.\n",
      "  warnings.warn(\n"
     ]
    },
    {
     "data": {
      "text/plain": [
       "['<BEGIN>',\n",
       " '#',\n",
       " '/',\n",
       " '0',\n",
       " '0',\n",
       " '0',\n",
       " '[SEP]',\n",
       " 'TT_ZERO',\n",
       " 'TT_INTEGER',\n",
       " 'TT_ZERO',\n",
       " 'TT_INTEGER',\n",
       " 'TT_MINUS',\n",
       " 'TT_INTEGER',\n",
       " 'TT_LOG',\n",
       " 'TT_MULTIPLY',\n",
       " 'TT_MINUS',\n",
       " 'TT_INTEGER',\n",
       " 'TT_DIVIDE',\n",
       " '<END>']"
      ]
     },
     "execution_count": 20,
     "metadata": {},
     "output_type": "execute_result"
    }
   ],
   "source": [
    "vocabulary = Vocabulary.construct_from_list(TOKEN_TYPE_EXPRESSIONS + TOKEN_TYPE_ANSWERS)\n",
    "def predict(input_sum: List[str]):\n",
    "    \"\"\"\n",
    "    Args:\n",
    "        input_sum: e.g. [\"#\", \"/\", \"-1\", \"0\"]\n",
    "    \"\"\"\n",
    "    input_sum = torch.LongTensor([vocabulary.vectorize(input_sum)[:-1] + [vocabulary.separator_index]])\n",
    "    out = model.generate(input_sum,\n",
    "                        eos_token_id=vocabulary.end_seq_index, \n",
    "                        pad_token_id=vocabulary.mask_index, num_beams=10)\n",
    "    pred = [vocabulary.getToken(o.item()) for o in out[0]]\n",
    "    return pred\n",
    "pred = predict([\"#\", \"/\", \"0\", \"0\", \"0\"])\n",
    "pred"
   ]
  },
  {
   "cell_type": "code",
   "execution_count": 21,
   "id": "8a463ddd",
   "metadata": {},
   "outputs": [
    {
     "data": {
      "text/plain": [
       "'((Z-((-Z)*Log(Z)))/Z)'"
      ]
     },
     "execution_count": 21,
     "metadata": {},
     "output_type": "execute_result"
    }
   ],
   "source": [
    "eq = Equation([Token(t) for t in pred[pred.index(\"[SEP]\")+1:-1]], notation=\"postfix\")\n",
    "eq.getMathemetaicalNotation()"
   ]
  },
  {
   "cell_type": "markdown",
   "id": "9b258e69",
   "metadata": {},
   "source": [
    "### Trying the model"
   ]
  },
  {
   "cell_type": "code",
   "execution_count": 22,
   "id": "30b91f3e",
   "metadata": {},
   "outputs": [
    {
     "name": "stdout",
     "output_type": "stream",
     "text": [
      " * Serving Flask app '__main__'\n",
      " * Debug mode: on\n"
     ]
    }
   ],
   "source": [
    "# Setup local server\n",
    "def run_flask_app():\n",
    "    app = Flask(__name__)\n",
    "    CORS(app)  # This will enable CORS for all routes\n",
    "\n",
    "    @app.route(\"/\")\n",
    "    def home():\n",
    "        return \"<h1>YOYOYO</h1>\"\n",
    "\n",
    "    @app.route(\"/calculate\", methods=[\"POST\"])\n",
    "    def calculate():\n",
    "        data = request.get_json()\n",
    "        input_sum = ([\"#\"] if not data[\"numerator_list\"] else data[\"numerator_list\"]) + [\"/\"] + data[\"denominator_list\"]\n",
    "        pred = predict(input_sum)\n",
    "        print(pred)\n",
    "        try:\n",
    "            eq = Equation([Token(t) for t in pred[pred.index(\"[SEP]\")+1:-1]], notation=\"postfix\")\n",
    "            sympy_eq = sp.parse_expr(eq.getMathemetaicalNotation(), evaluate=False)\n",
    "            result = f\"\"\"<mo>=</mo>{latex2mathml.converter.convert(sp.latex(sympy_eq)).replace('<math xmlns=\"http://www.w3.org/1998/Math/MathML\" display=\"inline\">', '').replace('</math>', '')}\"\"\"\n",
    "            return jsonify({'result': result})\n",
    "\n",
    "        except Exception as e:\n",
    "            print(e)\n",
    "            result = \"<mo>=</mo><mi>:</mi><mo>(</mo>\"\n",
    "            return jsonify({'result': result})\n",
    "\n",
    "    app.run(debug=True, port=6283, use_reloader=False)\n",
    "\n",
    "# Run the Flask app in a new thread\n",
    "flask_thread = threading.Thread(target=run_flask_app)\n",
    "flask_thread.start()"
   ]
  },
  {
   "cell_type": "code",
   "execution_count": null,
   "id": "4a3e6fcc",
   "metadata": {},
   "outputs": [],
   "source": []
  },
  {
   "cell_type": "code",
   "execution_count": 23,
   "id": "a11ae424",
   "metadata": {},
   "outputs": [],
   "source": [
    "def build_root(id:str):\n",
    "    return f\"\"\"      \n",
    "    <mo>(</mo>\n",
    "    <mi>n</mi>\n",
    "    <mo>-</mo>\n",
    "    <mn onclick='var numField = document.getElementById(\"{id}\"); numField.innerHTML = parseInt({id}.innerHTML) + 1 == 5 ?  -5 : parseInt({id}.innerHTML) + 1;' id='{id}'>1</mn>\n",
    "    <mo>)</mo>\n",
    "    \"\"\""
   ]
  },
  {
   "cell_type": "code",
   "execution_count": 24,
   "id": "4ca4a442",
   "metadata": {},
   "outputs": [
    {
     "name": "stderr",
     "output_type": "stream",
     "text": [
      "WARNING: This is a development server. Do not use it in a production deployment. Use a production WSGI server instead.\n",
      " * Running on http://127.0.0.1:6283\n",
      "Press CTRL+C to quit\n"
     ]
    }
   ],
   "source": [
    "def build_roots(num, offset=0):\n",
    "    if num == 0: return \"<mn>1</mn>\"\n",
    "    \n",
    "    out = \"\"\n",
    "    for root_num in range(num):\n",
    "        out += build_root(f\"Root_{root_num+offset}\")\n",
    "    return out"
   ]
  },
  {
   "cell_type": "code",
   "execution_count": 25,
   "id": "c0eb0abc",
   "metadata": {},
   "outputs": [],
   "source": [
    "# Initialize the numerator and denominator\n",
    "num_denominator = 0\n",
    "num_numerator = 0"
   ]
  },
  {
   "cell_type": "code",
   "execution_count": 26,
   "id": "fd1d885e",
   "metadata": {},
   "outputs": [
    {
     "data": {
      "application/vnd.jupyter.widget-view+json": {
       "model_id": "acc7756c35d144cc929f34c13a6c839d",
       "version_major": 2,
       "version_minor": 0
      },
      "text/plain": [
       "HBox(children=(IntSlider(value=0, continuous_update=False, description='Numerator Degree:', max=10, style=Slid…"
      ]
     },
     "metadata": {},
     "output_type": "display_data"
    },
    {
     "data": {
      "application/vnd.jupyter.widget-view+json": {
       "model_id": "4f698944b35c420382c0203d7a02e710",
       "version_major": 2,
       "version_minor": 0
      },
      "text/plain": [
       "HTML(value='<center><h1>AI - Calculator</h1></center><div style=\\'display: flex; align-items: center; justify-…"
      ]
     },
     "metadata": {},
     "output_type": "display_data"
    },
    {
     "name": "stderr",
     "output_type": "stream",
     "text": [
      "127.0.0.1 - - [20/Jun/2023 09:35:38] \"OPTIONS /calculate HTTP/1.1\" 200 -\n",
      "127.0.0.1 - - [20/Jun/2023 09:35:39] \"POST /calculate HTTP/1.1\" 200 -\n"
     ]
    },
    {
     "name": "stdout",
     "output_type": "stream",
     "text": [
      "['<BEGIN>', '#', '/', '1', '[SEP]', 'TT_INTEGER', 'TT_INTEGER', 'TT_SQRT', 'TT_MULTIPLY', 'TT_PI', 'TT_MULTIPLY', 'TT_PLUS', 'TT_INTEGER', 'TT_INTEGER', 'TT_INTEGER', 'TT_LOG', 'TT_MULTIPLY', 'TT_MINUS', 'TT_INTEGER', 'TT_DIVIDE', '<END>']\n"
     ]
    }
   ],
   "source": [
    "# create an HTML widget to show a paragraph\n",
    "HTML_text = \"\"\"<center><h1>AI - Calculator</h1></center><div style='display: flex; align-items: center; justify-content: center;'>\n",
    "<button style=\"\n",
    "background-color: #2b2b2b; border: none; color: white; padding: 5px 10px; text-align: center; text-decoration: none; display: inline-block; font-size: 12px; margin: 2px 15px 2px 0px; cursor: pointer; -webkit-transition-duration: 0.4s; transition-duration: 0.4s; border-radius: 5px; border: 1px solid #f9f9f9;\n",
    "\" \n",
    "  onclick=\"fetch('http://localhost:6283/calculate', { method: 'POST', headers: {'Accept': 'application/json', 'Content-Type': 'application/json'}, body: JSON.stringify({\"\"\" + f\"numerator_list: [{','.join([f'document.getElementById(`Root_{i}`).innerHTML' for i in range(num_numerator)])}], denominator_list: [{','.join([f'document.getElementById(`Root_{i}`).innerHTML' for i in range(num_numerator, num_numerator+num_denominator)])}]\" + \"\"\"}) })\n",
    "            .then(response => response.json())\n",
    "            .then(json => {console.log(json); document.getElementById('result').innerHTML = json.result;})\">\n",
    "  Calculate\n",
    "</button>\"\"\" + \\\n",
    "f\"\"\"<math xmlns=\"http://www.w3.org/1998/Math/MathML\" display=\"block\" style='color: black; font-size: 22px' id='LHS'>\n",
    "  <munderover>\n",
    "    <mo>&#x2211;</mo>  <!-- SUM SYMBOL -->\n",
    "    <mrow>\n",
    "      <mi>i</mi>  <!-- INDEX VARIABLE -->\n",
    "      <mo>=</mo>\n",
    "      <mn>1</mn>  <!-- LOWER BOUND -->\n",
    "    </mrow>\n",
    "    <mrow>\n",
    "      <mo>&#x221E;</mo>  <!-- UPPER BOUND -->\n",
    "    </mrow>\n",
    "  </munderover>\n",
    "  <mfrac>\n",
    "    <mrow>\n",
    "      {build_roots(num_numerator)}\n",
    "    </mrow>\n",
    "    <mrow>\n",
    "      {build_roots(num_denominator, offset=num_numerator)}\n",
    "    </mrow>\n",
    "  </mfrac>\n",
    "  <mrow id=\"result\">\n",
    "  </mrow>\n",
    "</math>\n",
    "</div>\n",
    "\"\"\"\n",
    "\n",
    "html = widgets.HTML(\n",
    "    value=HTML_text,\n",
    "    placeholder='Some HTML',\n",
    ")\n",
    "\n",
    "# Set the numerator and denominator degrees\n",
    "def set_degrees(*args):\n",
    "    global num_numerator, num_denominator\n",
    "    num_numerator = num_numerator_slider.value\n",
    "    num_denominator = num_denominator_slider.value\n",
    "    HTML_text = \"\"\"<center><h1>AI - Calculator</h1></center><div style='display: flex; align-items: center; justify-content: center;'>\n",
    "    <button style=\"\n",
    "    background-color: #2b2b2b; border: none; color: white; padding: 5px 10px; text-align: center; text-decoration: none; display: inline-block; font-size: 12px; margin: 2px 15px 2px 0px; cursor: pointer; -webkit-transition-duration: 0.4s; transition-duration: 0.4s; border-radius: 5px; border: 1px solid #f9f9f9;\n",
    "    \" \n",
    "      onclick=\"fetch('http://localhost:6283/calculate', { method: 'POST', headers: {'Accept': 'application/json', 'Content-Type': 'application/json'}, body: JSON.stringify({\"\"\" + f\"numerator_list: [{','.join([f'document.getElementById(`Root_{i}`).innerHTML' for i in range(num_numerator)])}], denominator_list: [{','.join([f'document.getElementById(`Root_{i}`).innerHTML' for i in range(num_numerator, num_numerator+num_denominator)])}]\" + \"\"\"}) })\n",
    "                .then(response => response.json())\n",
    "                .then(json => {console.log(json); document.getElementById('result').innerHTML = json.result;})\">\n",
    "      Calculate\n",
    "    </button>\"\"\" + \\\n",
    "    f\"\"\"<math xmlns=\"http://www.w3.org/1998/Math/MathML\" display=\"block\" style='color: black; font-size: 22px' id='LHS'>\n",
    "      <munderover>\n",
    "        <mo>&#x2211;</mo>  <!-- SUM SYMBOL -->\n",
    "        <mrow>\n",
    "          <mi>i</mi>  <!-- INDEX VARIABLE -->\n",
    "          <mo>=</mo>\n",
    "          <mn>1</mn>  <!-- LOWER BOUND -->\n",
    "        </mrow>\n",
    "        <mrow>\n",
    "          <mo>&#x221E;</mo>  <!-- UPPER BOUND -->\n",
    "        </mrow>\n",
    "      </munderover>\n",
    "      <mfrac>\n",
    "        <mrow>\n",
    "          {build_roots(num_numerator)}\n",
    "        </mrow>\n",
    "        <mrow>\n",
    "          {build_roots(num_denominator, offset=num_numerator)}\n",
    "        </mrow>\n",
    "      </mfrac>\n",
    "      <mrow id=\"result\">\n",
    "      </mrow>\n",
    "    </math>\n",
    "    </div>\n",
    "    \"\"\"\n",
    "\n",
    "    html = widgets.HTML(\n",
    "        value=HTML_text,\n",
    "        placeholder='Some HTML',\n",
    "    )\n",
    "    clear_output()\n",
    "    display(widgets.HBox([num_numerator_slider, num_denominator_slider]), html)\n",
    "    \n",
    "\n",
    "num_numerator_slider = widgets.IntSlider(value=num_numerator, min=0, max=10, step=1, description='Numerator Degree:', disabled=False, continuous_update=False, orientation='horizontal', readout=True, readout_format='d', style={'description_width': 'initial'})\n",
    "num_denominator_slider = widgets.IntSlider(value=num_denominator, min=0, max=10, step=1, description='Denominator Degree:', disabled=False, continuous_update=True, orientation='horizontal', readout=True, readout_format='d', style={'description_width': 'initial'})\n",
    "\n",
    "num_numerator_slider.observe(set_degrees)\n",
    "num_denominator_slider.observe(set_degrees)\n",
    "\n",
    "display(widgets.HBox([num_numerator_slider, num_denominator_slider]), html)"
   ]
  },
  {
   "cell_type": "markdown",
   "id": "35706043",
   "metadata": {},
   "source": [
    "### Validation\n",
    "`root_pred` is the root of the predicted tree\n",
    "\n",
    "`root_correct` is the root of the correct tree\n",
    "\n",
    "Does a simultaneous BFS and each time a discrepancy is encountered, every tool in the arsenal above is thrown at it (not actually, only the result - like for lehvenstein), and the action used is recorded so the result also provides what operations are needed where\n",
    "\n",
    "\n",
    "An important note is that because of the `Replace and Swap` operator TED(a,b) is not necessarily TED(b,a), based on the commutativity of the replacement operator"
   ]
  },
  {
   "cell_type": "code",
   "execution_count": 27,
   "id": "0244a5bd",
   "metadata": {},
   "outputs": [
    {
     "ename": "ImportError",
     "evalue": "cannot import name 'token2symbol' from 'model.tokens' (C:\\Users\\Hugo\\Documents\\DTU\\01666\\fagprojekt-01666\\code\\model\\tokens.py)",
     "output_type": "error",
     "traceback": [
      "\u001b[1;31m---------------------------------------------------------------------------\u001b[0m",
      "\u001b[1;31mImportError\u001b[0m                               Traceback (most recent call last)",
      "Cell \u001b[1;32mIn [27], line 1\u001b[0m\n\u001b[1;32m----> 1\u001b[0m \u001b[38;5;28;01mfrom\u001b[39;00m \u001b[38;5;21;01mmodel\u001b[39;00m\u001b[38;5;21;01m.\u001b[39;00m\u001b[38;5;21;01mtokens\u001b[39;00m \u001b[38;5;28;01mimport\u001b[39;00m token2symbol\n\u001b[0;32m      2\u001b[0m \u001b[38;5;28;01mfrom\u001b[39;00m \u001b[38;5;21;01mvalidation\u001b[39;00m\u001b[38;5;21;01m.\u001b[39;00m\u001b[38;5;21;01mTED\u001b[39;00m \u001b[38;5;28;01mimport\u001b[39;00m get_steps, TreeEditDistance, show_graph, graph_from_postfix\n",
      "\u001b[1;31mImportError\u001b[0m: cannot import name 'token2symbol' from 'model.tokens' (C:\\Users\\Hugo\\Documents\\DTU\\01666\\fagprojekt-01666\\code\\model\\tokens.py)"
     ]
    }
   ],
   "source": [
    "from model.tokens import token2symbol\n",
    "from validation.TED import get_steps, TreeEditDistance, show_graph, graph_from_postfix"
   ]
  },
  {
   "cell_type": "code",
   "execution_count": null,
   "id": "e6037a7c",
   "metadata": {},
   "outputs": [],
   "source": [
    "test_cases = []"
   ]
  },
  {
   "cell_type": "code",
   "execution_count": null,
   "id": "7d6a9ca3",
   "metadata": {},
   "outputs": [],
   "source": [
    "_, predicted_graph = graph_from_postfix([Token(t) for t in [\"TT_INTEGER\", \"TT_INTEGER\", \"TT_DIVIDE\"]])\n",
    "_, correct_graph = graph_from_postfix([Token(t) for t in [\"TT_INTEGER\", \"TT_LOG\", \"TT_LOG\", \"TT_SQRT\"]])\n",
    "predicted_graph, correct_graph"
   ]
  },
  {
   "cell_type": "code",
   "execution_count": null,
   "id": "be6a3ff3",
   "metadata": {},
   "outputs": [],
   "source": [
    "steps = get_steps(predicted_graph, correct_graph)\n",
    "steps[1][1]"
   ]
  },
  {
   "cell_type": "code",
   "execution_count": null,
   "id": "f374c785",
   "metadata": {},
   "outputs": [],
   "source": [
    "def my_formatter(expr):\n",
    "    expr = expr.replace(\"{\", \"(x\").replace(\"}\", \")\")\n",
    "    expr = expr.replace(r\"\\;\", \"\").replace(\"\\\\\", \"\").replace(\";\", \"\")\n",
    "    expr = expr.replace(\"log\", \"log(x)\")\n",
    "    return expr"
   ]
  },
  {
   "cell_type": "code",
   "execution_count": null,
   "id": "78b86002",
   "metadata": {},
   "outputs": [],
   "source": [
    "plt.subplot(1,2,1)\n",
    "plt.title(\"Predicted Graph\")\n",
    "show_graph(predicted_graph, color=\"blue\")\n",
    "plt.subplot(1,2,2)\n",
    "plt.title(\"Correct Graph\")\n",
    "show_graph(correct_graph, color=\"red\")\n",
    "HTML(\"\"\"\n",
    "<style>\n",
    ".output_png {\n",
    "    display: table-cell;\n",
    "    text-align: center;\n",
    "    vertical-align: middle;\n",
    "}\n",
    "</style>\n",
    "\"\"\")"
   ]
  },
  {
   "cell_type": "code",
   "execution_count": null,
   "id": "82d3d1cb",
   "metadata": {},
   "outputs": [],
   "source": [
    "# Initialize output widget\n",
    "out = widgets.Output()\n",
    "\n",
    "# Initialize a counter\n",
    "counter = 0\n",
    "\n",
    "\n",
    "# Initialize the buttons\n",
    "next_button = widgets.Button(description='Next')\n",
    "prev_button = widgets.Button(description='Previous')\n",
    "\n",
    "# Plot the graphs\n",
    "def plot_graphs(counter):\n",
    "    plt.subplot(1,2,1)\n",
    "    show_graph(steps[counter][0], color=\"blue\" if counter == 0 else \"orange\")\n",
    "    plt.subplot(1,2,2)\n",
    "    show_graph(steps[counter+1][0], color=\"red\" if counter+1 == len(steps)-1 else \"orange\")\n",
    "    if steps[counter+1][1] and steps[counter+1][1][2]:\n",
    "        plt.suptitle(f\"${steps[counter+1][1][2]}$\", fontsize=14)\n",
    "    plt.show()\n",
    "\n",
    "# Define the button click actions\n",
    "def next_button_clicked(b):\n",
    "    global counter\n",
    "    counter = min(len(steps)-2, counter+1)\n",
    "    out.clear_output()\n",
    "    with out:\n",
    "        plot_graphs(counter)\n",
    "\n",
    "def prev_button_clicked(b):\n",
    "    global counter\n",
    "    counter = max(0, counter-1)\n",
    "    out.clear_output()\n",
    "    with out:\n",
    "        plot_graphs(counter)\n",
    "\n",
    "# Assign the actions to the button on click\n",
    "next_button.on_click(next_button_clicked)\n",
    "prev_button.on_click(prev_button_clicked)\n",
    "\n",
    "# Create a horizontal box with the buttons\n",
    "button_box = widgets.HBox([prev_button, next_button])\n",
    "\n",
    "# Display the buttons and the output\n",
    "display(button_box, out)\n",
    "\n",
    "# Display the initial graphs\n",
    "with out:\n",
    "    plot_graphs(counter)"
   ]
  },
  {
   "cell_type": "markdown",
   "id": "e38e7d2f",
   "metadata": {},
   "source": [
    "## Fine-tuned model"
   ]
  },
  {
   "cell_type": "code",
   "execution_count": null,
   "id": "f107d05a",
   "metadata": {},
   "outputs": [],
   "source": []
  },
  {
   "cell_type": "code",
   "execution_count": null,
   "id": "db5eddd4",
   "metadata": {},
   "outputs": [],
   "source": []
  },
  {
   "cell_type": "code",
   "execution_count": null,
   "id": "08b1a379",
   "metadata": {},
   "outputs": [],
   "source": []
  },
  {
   "cell_type": "markdown",
   "id": "275b98c3",
   "metadata": {},
   "source": [
    "### Validation"
   ]
  },
  {
   "cell_type": "code",
   "execution_count": null,
   "id": "6f414798",
   "metadata": {},
   "outputs": [],
   "source": []
  },
  {
   "cell_type": "code",
   "execution_count": null,
   "id": "1f37cb76",
   "metadata": {},
   "outputs": [],
   "source": []
  },
  {
   "cell_type": "markdown",
   "id": "bc83e1a8",
   "metadata": {},
   "source": [
    "# Tests"
   ]
  },
  {
   "cell_type": "code",
   "execution_count": null,
   "id": "b4983071",
   "metadata": {},
   "outputs": [],
   "source": []
  },
  {
   "cell_type": "code",
   "execution_count": null,
   "id": "76eff456",
   "metadata": {},
   "outputs": [],
   "source": []
  },
  {
   "cell_type": "code",
   "execution_count": null,
   "id": "625b767b",
   "metadata": {},
   "outputs": [],
   "source": []
  },
  {
   "cell_type": "code",
   "execution_count": null,
   "id": "be1f9667",
   "metadata": {},
   "outputs": [],
   "source": []
  },
  {
   "cell_type": "code",
   "execution_count": null,
   "id": "39161bd9",
   "metadata": {},
   "outputs": [],
   "source": []
  }
 ],
 "metadata": {
  "kernelspec": {
   "display_name": "Python 3 (ipykernel)",
   "language": "python",
   "name": "python3"
  },
  "language_info": {
   "codemirror_mode": {
    "name": "ipython",
    "version": 3
   },
   "file_extension": ".py",
   "mimetype": "text/x-python",
   "name": "python",
   "nbconvert_exporter": "python",
   "pygments_lexer": "ipython3",
   "version": "3.10.7"
  }
 },
 "nbformat": 4,
 "nbformat_minor": 5
}
