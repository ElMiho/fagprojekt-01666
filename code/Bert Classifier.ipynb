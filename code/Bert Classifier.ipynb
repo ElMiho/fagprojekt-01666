{
 "cells": [
  {
   "cell_type": "code",
   "execution_count": 1,
   "id": "790c720b",
   "metadata": {},
   "outputs": [],
   "source": [
    "from transformers import AutoTokenizer, AutoModelForSequenceClassification, Trainer, TrainingArguments\n",
    "from datasets import load_dataset\n",
    "from datasets import Dataset\n",
    "\n",
    "from sklearn.metrics import accuracy_score, f1_score\n",
    "import torch.nn.functional as F\n",
    "\n",
    "import matplotlib.pyplot as plt\n",
    "import seaborn as sns\n",
    "import pandas as pd\n",
    "import numpy as np\n",
    "import torch"
   ]
  },
  {
   "cell_type": "code",
   "execution_count": 2,
   "id": "8d4e87d0",
   "metadata": {},
   "outputs": [
    {
     "data": {
      "text/plain": [
       "device(type='cpu')"
      ]
     },
     "execution_count": 2,
     "metadata": {},
     "output_type": "execute_result"
    }
   ],
   "source": [
    "model_ckpt = \"bert-base-uncased\"\n",
    "device = torch.device(\"cuda\" if torch.cuda.is_available() else \"cpu\")\n",
    "device"
   ]
  },
  {
   "cell_type": "markdown",
   "id": "2a72346b",
   "metadata": {},
   "source": [
    "# Load and analyse data"
   ]
  },
  {
   "cell_type": "code",
   "execution_count": 3,
   "id": "37d9505c",
   "metadata": {},
   "outputs": [],
   "source": [
    "data = {}\n",
    "with open(\"./data/random-expressions-partition-8-4-2023.txt\", \"r\") as f:\n",
    "    data[\"sums\"] = f.read().split(\"\\n\")\n",
    "f.close()\n",
    "with open(\"./data/random-answers-partition-8-4-2023.txt\", \"r\") as f:\n",
    "    data[\"answers\"] = f.read().split(\"\\n\")\n",
    "f.close()"
   ]
  },
  {
   "cell_type": "code",
   "execution_count": 4,
   "id": "41b53581",
   "metadata": {},
   "outputs": [
    {
     "name": "stdout",
     "output_type": "stream",
     "text": [
      "                                                sums   answers\n",
      "0  {{}, {4/3, -3/4, -3/4, 5/2, 4/3, 5/4, -2, 1/4,...  $Aborted\n",
      "1  {{}, {4/3, -5/4, -1/2, -3/2, -3/5, -3/5, -5, -...  $Aborted\n",
      "2  {{}, {1/5, 4/5, -1/2, -3/2, 4/3, 2/5, -5/2, -1...  $Aborted\n",
      "3  {{}, {2/3, 5/4, -3/5, 4/3, -1, 4/3, -5/4, -5/2...  $Aborted\n",
      "4  {{}, {-3/4, -5, -5, 2/5, 3/4, 1/4, -4/3, 2/5, ...  $Aborted\n"
     ]
    }
   ],
   "source": [
    "df = pd.DataFrame(data)\n",
    "print(df.head())"
   ]
  },
  {
   "cell_type": "code",
   "execution_count": 5,
   "id": "f2444a18",
   "metadata": {},
   "outputs": [
    {
     "name": "stdout",
     "output_type": "stream",
     "text": [
      "                                                 sums  \\\n",
      "8   {{}, {-4/5, 0, 1/5, 5/3, 4/3, -4/3, -1/3, -3/5...   \n",
      "16  {{}, {-5/3, 3/4, -2/3, 3/2, -1/2, -1/4, 4/3, -...   \n",
      "17  {{}, {1/5, 5/2, 0, -3/5, -5/2, -2, -3/4, -5/3,...   \n",
      "18  {{}, {-3/2, -1/4, 1/2, 5/2, -1/3, -1, 2/3, 4/3...   \n",
      "20  {{}, {-3/5, 3/5, -1/4, 5/4, -5, 5/3, -3/2, -4,...   \n",
      "\n",
      "                                              answers  \n",
      "8   (-27*(-51708617291610*Sqrt[5] - 42718013161472...  \n",
      "16  -17280*(773750880083/3307889451566700 + (-137/...  \n",
      "17  -1/33984629258580000*(4155111422336236*Sqrt[5]...  \n",
      "18  (24*(35863559070 - 10166059008*Pi + 3223382121...  \n",
      "20  -2400*(-36799338815694409/12825799082188092000...  \n"
     ]
    }
   ],
   "source": [
    "df = df[df[\"answers\"] != \"$Aborted\"]\n",
    "print(df.head())"
   ]
  },
  {
   "cell_type": "code",
   "execution_count": 6,
   "id": "897ad507",
   "metadata": {},
   "outputs": [
    {
     "name": "stdout",
     "output_type": "stream",
     "text": [
      "{'Pi': 0, 'Catalan': 1, 'EulerGamma': 2, 'Sqrt': 3, 'Log': 4}\n"
     ]
    }
   ],
   "source": [
    "token2int = {token:i for i,token in enumerate(['Pi','Catalan','EulerGamma','Sqrt','Log'])}\n",
    "print(token2int)"
   ]
  },
  {
   "cell_type": "code",
   "execution_count": 7,
   "id": "a5edd7bf",
   "metadata": {},
   "outputs": [
    {
     "data": {
      "text/plain": [
       "['#', '/', '-2', '-2', '-10', '-8', '-9', '-8', '-10', '-5', '-6', '-4']"
      ]
     },
     "execution_count": 7,
     "metadata": {},
     "output_type": "execute_result"
    }
   ],
   "source": [
    "def sum2tokens(mathematica_sum):\n",
    "    \"\"\"\n",
    "    Example:\n",
    "        '{{}, {-2, -2, -10, -8, -9, -8, -10, -5, -6, -4}}\\n' ---> ['#', '/', '-2', '-2', '-10', '-8', '-9', '-8', '-10', '-5', '-6', '-4']\n",
    "\n",
    "    \"\"\"\n",
    "    LHS, RHS = mathematica_sum.split(\"}, {\")\n",
    "    LHS, RHS = LHS.lstrip(\"{\"), RHS.rstrip(\"\\n\").rstrip(\"}\")\n",
    "    if len(LHS) == 0:\n",
    "        LHS = [\"#\"]\n",
    "    else:\n",
    "        LHS = LHS.split(\", \")\n",
    "    RHS = RHS.split(\", \")    \n",
    "    return LHS + [\"/\"] + RHS\n",
    "sum2tokens('{{}, {-2, -2, -10, -8, -9, -8, -10, -5, -6, -4}}\\n')"
   ]
  },
  {
   "cell_type": "code",
   "execution_count": 8,
   "id": "92bc24f2",
   "metadata": {},
   "outputs": [
    {
     "name": "stdout",
     "output_type": "stream",
     "text": [
      "                                               sum  label\n",
      "0   # / -4/5 0 1/5 5/3 4/3 -4/3 -1/3 -3/5 -3/4 1/3      0\n",
      "1   # / -4/5 0 1/5 5/3 4/3 -4/3 -1/3 -3/5 -3/4 1/3      3\n",
      "2   # / -4/5 0 1/5 5/3 4/3 -4/3 -1/3 -3/5 -3/4 1/3      4\n",
      "3  # / -5/3 3/4 -2/3 3/2 -1/2 -1/4 4/3 -2/5 1/2 -5      0\n",
      "4  # / -5/3 3/4 -2/3 3/2 -1/2 -1/4 4/3 -2/5 1/2 -5      2\n"
     ]
    }
   ],
   "source": [
    "new_df = pd.DataFrame(columns=[\"sum\", \"label\"])\n",
    "for pointer in range(10):\n",
    "    for token in token2int:\n",
    "        if token in df.iloc[pointer][\"answers\"]:\n",
    "            new_df.loc[len(new_df)] = [\" \".join(sum2tokens(df.iloc[pointer][\"sums\"])), token2int[token]]\n",
    "            \n",
    "print(new_df.head())"
   ]
  },
  {
   "cell_type": "markdown",
   "id": "bb300782",
   "metadata": {},
   "source": [
    "# Tokenize time"
   ]
  },
  {
   "cell_type": "code",
   "execution_count": 9,
   "id": "489b53cf",
   "metadata": {},
   "outputs": [
    {
     "name": "stdout",
     "output_type": "stream",
     "text": [
      "Dataset({\n",
      "    features: ['sum', 'label', '__index_level_0__'],\n",
      "    num_rows: 34\n",
      "})\n"
     ]
    }
   ],
   "source": [
    "dataset = Dataset.from_pandas(new_df)\n",
    "print(dataset)"
   ]
  },
  {
   "cell_type": "code",
   "execution_count": 10,
   "id": "70cf0782",
   "metadata": {},
   "outputs": [],
   "source": [
    "tokenizer = AutoTokenizer.from_pretrained(model_ckpt)\n",
    "def tokenize(batch):\n",
    "    return tokenizer(batch[\"sum\"], padding=True, truncation=True)"
   ]
  },
  {
   "cell_type": "code",
   "execution_count": 11,
   "id": "b0723b8a",
   "metadata": {},
   "outputs": [
    {
     "data": {
      "application/vnd.jupyter.widget-view+json": {
       "model_id": "",
       "version_major": 2,
       "version_minor": 0
      },
      "text/plain": [
       "Map:   0%|          | 0/34 [00:00<?, ? examples/s]"
      ]
     },
     "metadata": {},
     "output_type": "display_data"
    },
    {
     "name": "stdout",
     "output_type": "stream",
     "text": [
      "Dataset({\n",
      "    features: ['sum', 'label', '__index_level_0__', 'input_ids', 'token_type_ids', 'attention_mask'],\n",
      "    num_rows: 34\n",
      "})\n"
     ]
    }
   ],
   "source": [
    "dataset_encoded = dataset.map(tokenize, batched=True)\n",
    "print(dataset_encoded)"
   ]
  },
  {
   "cell_type": "code",
   "execution_count": 12,
   "id": "9930779e",
   "metadata": {},
   "outputs": [
    {
     "name": "stdout",
     "output_type": "stream",
     "text": [
      "Dataset({\n",
      "    features: ['sum', 'label', '__index_level_0__', 'input_ids', 'token_type_ids', 'attention_mask'],\n",
      "    num_rows: 34\n",
      "})\n"
     ]
    }
   ],
   "source": [
    "dataset_encoded.set_format(\"torch\", columns=[\"input_ids\", \"attention_mask\", \"label\"])\n",
    "print(dataset_encoded)"
   ]
  },
  {
   "cell_type": "code",
   "execution_count": 14,
   "id": "8895a08f",
   "metadata": {},
   "outputs": [
    {
     "data": {
      "application/vnd.jupyter.widget-view+json": {
       "model_id": "07265038f6d64dfd8b04887f6e31ef86",
       "version_major": 2,
       "version_minor": 0
      },
      "text/plain": [
       "Pushing dataset shards to the dataset hub:   0%|          | 0/1 [00:00<?, ?it/s]"
      ]
     },
     "metadata": {},
     "output_type": "display_data"
    },
    {
     "data": {
      "application/vnd.jupyter.widget-view+json": {
       "model_id": "526c143d02bf4dd88deadb93d3fcd764",
       "version_major": 2,
       "version_minor": 0
      },
      "text/plain": [
       "Creating parquet from Arrow format:   0%|          | 0/1 [00:00<?, ?ba/s]"
      ]
     },
     "metadata": {},
     "output_type": "display_data"
    },
    {
     "data": {
      "application/vnd.jupyter.widget-view+json": {
       "model_id": "f03e445b4812432b9f7a9f006a594bbb",
       "version_major": 2,
       "version_minor": 0
      },
      "text/plain": [
       "Upload 1 LFS files:   0%|          | 0/1 [00:00<?, ?it/s]"
      ]
     },
     "metadata": {},
     "output_type": "display_data"
    }
   ],
   "source": [
    "dataset_encoded.push_to_hub(\"Dragonoverlord3000/sum_classifier_dataset\")"
   ]
  },
  {
   "cell_type": "markdown",
   "id": "762ecbe4",
   "metadata": {},
   "source": [
    "# Model"
   ]
  },
  {
   "cell_type": "code",
   "execution_count": null,
   "id": "8d0a68a7",
   "metadata": {},
   "outputs": [],
   "source": [
    "def compute_metrics(pred):\n",
    "    labels = pred.label_ids\n",
    "    preds = pred.predictions.argmax(-1)\n",
    "    f1 = f1_score(labels, preds, average=\"weighted\")\n",
    "    acc = accuracy_score(labels, preds)\n",
    "    return {\"accuracy\": acc, \"f1\": f1}"
   ]
  },
  {
   "cell_type": "code",
   "execution_count": null,
   "id": "d0f34ffd",
   "metadata": {},
   "outputs": [],
   "source": [
    "model = AutoModelForSequenceClassification.from_pretrained(model_ckpt, num_labels=num_labels).to(device)\n",
    "print(model)"
   ]
  },
  {
   "cell_type": "code",
   "execution_count": null,
   "id": "900768a5",
   "metadata": {},
   "outputs": [],
   "source": [
    "# The training arguments - note the `push_to_hub`\n",
    "batch_size = 32\n",
    "logging_steps = batch_size\n",
    "model_name = \"sum-classifier\"\n",
    "training_args = TrainingArguments(output_dir=model_name,\n",
    "                                 num_train_epochs=2,\n",
    "                                 learning_rate=2e-5,\n",
    "                                 per_device_train_batch_size=batch_size,\n",
    "                                 per_gpu_eval_batch_size=batch_size,\n",
    "                                 weight_decay=0.01,\n",
    "                                 evaluation_strategy=\"epoch\",\n",
    "                                 disable_tqdm=False,\n",
    "                                 logging_steps=logging_steps,\n",
    "                                 push_to_hub=True,\n",
    "                                 log_level=\"error\")"
   ]
  },
  {
   "cell_type": "code",
   "execution_count": null,
   "id": "3e6128b2",
   "metadata": {},
   "outputs": [],
   "source": [
    "# Define the trainer\n",
    "trainer = Trainer(model=model, args=training_args,\n",
    "                 compute_metrics=compute_metrics,\n",
    "                 train_dataset=dataset_encoded,\n",
    "                 eval_dataset=dataset_encoded,\n",
    "                 tokenizer=tokenizer)"
   ]
  },
  {
   "cell_type": "code",
   "execution_count": null,
   "id": "6e31690b",
   "metadata": {},
   "outputs": [],
   "source": [
    "# trainer.push_to_hub(commit_message=\"Training Complete\")"
   ]
  },
  {
   "cell_type": "code",
   "execution_count": null,
   "id": "c443e79f",
   "metadata": {},
   "outputs": [],
   "source": []
  },
  {
   "cell_type": "code",
   "execution_count": null,
   "id": "05b1f33a",
   "metadata": {},
   "outputs": [],
   "source": []
  },
  {
   "cell_type": "code",
   "execution_count": null,
   "id": "5cb59db0",
   "metadata": {},
   "outputs": [],
   "source": []
  }
 ],
 "metadata": {
  "kernelspec": {
   "display_name": "Python 3 (ipykernel)",
   "language": "python",
   "name": "python3"
  },
  "language_info": {
   "codemirror_mode": {
    "name": "ipython",
    "version": 3
   },
   "file_extension": ".py",
   "mimetype": "text/x-python",
   "name": "python",
   "nbconvert_exporter": "python",
   "pygments_lexer": "ipython3",
   "version": "3.10.7"
  }
 },
 "nbformat": 4,
 "nbformat_minor": 5
}
