{
 "cells": [
  {
   "cell_type": "code",
   "execution_count": 1,
   "id": "6aa41629",
   "metadata": {},
   "outputs": [],
   "source": [
    "from transformers import AutoTokenizer, AutoModelForSequenceClassification, Trainer, TrainingArguments\n",
    "from datasets import load_dataset\n",
    "from datasets import Dataset\n",
    "\n",
    "from sklearn.metrics import accuracy_score, f1_score\n",
    "import torch.nn.functional as F\n",
    "\n",
    "from tqdm import tqdm\n",
    "\n",
    "import matplotlib.pyplot as plt\n",
    "import seaborn as sns\n",
    "import pandas as pd\n",
    "import numpy as np\n",
    "import torch"
   ]
  },
  {
   "cell_type": "code",
   "execution_count": 2,
   "id": "c4a7e9fa",
   "metadata": {},
   "outputs": [
    {
     "data": {
      "text/plain": [
       "device(type='cpu')"
      ]
     },
     "execution_count": 2,
     "metadata": {},
     "output_type": "execute_result"
    }
   ],
   "source": [
    "model_ckpt = \"bert-base-uncased\"\n",
    "device = torch.device(\"cuda\" if torch.cuda.is_available() else \"cpu\")\n",
    "device"
   ]
  },
  {
   "cell_type": "markdown",
   "id": "3944e5b3",
   "metadata": {},
   "source": [
    "# Load and analyse data"
   ]
  },
  {
   "cell_type": "code",
   "execution_count": 3,
   "id": "2b88ff3e",
   "metadata": {},
   "outputs": [],
   "source": [
    "# data = {}\n",
    "# with open(\"./data/random-expressions-partition-8-4-2023.txt\", \"r\") as f:\n",
    "#     data[\"sums\"] = f.read().split(\"\\n\")\n",
    "# f.close()\n",
    "# with open(\"./data/random-answers-partition-8-4-2023.txt\", \"r\") as f:\n",
    "#     data[\"answers\"] = f.read().split(\"\\n\")\n",
    "# f.close()"
   ]
  },
  {
   "cell_type": "code",
   "execution_count": 4,
   "id": "6d02f1e9",
   "metadata": {},
   "outputs": [],
   "source": [
    "# df = pd.DataFrame(data)\n",
    "# print(df.head())"
   ]
  },
  {
   "cell_type": "code",
   "execution_count": 5,
   "id": "1cd960c6",
   "metadata": {},
   "outputs": [],
   "source": [
    "# df = df[df[\"answers\"] != \"$Aborted\"]\n",
    "# print(df.head())"
   ]
  },
  {
   "cell_type": "code",
   "execution_count": 6,
   "id": "efc0f521",
   "metadata": {},
   "outputs": [
    {
     "name": "stdout",
     "output_type": "stream",
     "text": [
      "{'Pi': 0, 'Catalan': 1, 'EulerGamma': 2, 'Sqrt': 3, 'Log': 4}\n"
     ]
    }
   ],
   "source": [
    "token2int = {token:i for i,token in enumerate(['Pi','Catalan','EulerGamma','Sqrt','Log'])}\n",
    "print(token2int)"
   ]
  },
  {
   "cell_type": "code",
   "execution_count": 7,
   "id": "21e3c3eb",
   "metadata": {},
   "outputs": [
    {
     "data": {
      "text/plain": [
       "['#', '/', '-2', '-2', '-10', '-8', '-9', '-8', '-10', '-5', '-6', '-4']"
      ]
     },
     "execution_count": 7,
     "metadata": {},
     "output_type": "execute_result"
    }
   ],
   "source": [
    "def sum2tokens(mathematica_sum):\n",
    "    \"\"\"\n",
    "    Example:\n",
    "        '{{}, {-2, -2, -10, -8, -9, -8, -10, -5, -6, -4}}\\n' ---> ['#', '/', '-2', '-2', '-10', '-8', '-9', '-8', '-10', '-5', '-6', '-4']\n",
    "\n",
    "    \"\"\"\n",
    "    LHS, RHS = mathematica_sum.split(\"}, {\")\n",
    "    LHS, RHS = LHS.lstrip(\"{\"), RHS.rstrip(\"\\n\").rstrip(\"}\")\n",
    "    if len(LHS) == 0:\n",
    "        LHS = [\"#\"]\n",
    "    else:\n",
    "        LHS = LHS.split(\", \")\n",
    "    RHS = RHS.split(\", \")    \n",
    "    return LHS + [\"/\"] + RHS\n",
    "sum2tokens('{{}, {-2, -2, -10, -8, -9, -8, -10, -5, -6, -4}}\\n')"
   ]
  },
  {
   "cell_type": "code",
   "execution_count": 8,
   "id": "38c83f93",
   "metadata": {
    "scrolled": true
   },
   "outputs": [
    {
     "name": "stderr",
     "output_type": "stream",
     "text": [
      "600001it [2:37:11, 63.62it/s]                                                                                          \n"
     ]
    },
    {
     "name": "stdout",
     "output_type": "stream",
     "text": [
      "                                               sum  label\n",
      "0   # / -4/5 0 1/5 5/3 4/3 -4/3 -1/3 -3/5 -3/4 1/3      0\n",
      "1   # / -4/5 0 1/5 5/3 4/3 -4/3 -1/3 -3/5 -3/4 1/3      3\n",
      "2   # / -4/5 0 1/5 5/3 4/3 -4/3 -1/3 -3/5 -3/4 1/3      4\n",
      "3  # / -5/3 3/4 -2/3 3/2 -1/2 -1/4 4/3 -2/5 1/2 -5      0\n",
      "4  # / -5/3 3/4 -2/3 3/2 -1/2 -1/4 4/3 -2/5 1/2 -5      2\n"
     ]
    }
   ],
   "source": [
    "df = pd.DataFrame(columns=[\"sum\", \"label\"])\n",
    "dataset_size = 600_000 # sum(1 for _ in open(\"./data/random-expressions-partition-8-4-2023.txt\"))\n",
    "count = 0\n",
    "for S, answer in tqdm(zip(open(\"./data/random-expressions-partition-8-4-2023.txt\"), open(\"./data/random-answers-partition-8-4-2023.txt\")), total=dataset_size):\n",
    "    if count > dataset_size: break\n",
    "    count += 1\n",
    "    for token in token2int:\n",
    "        if token in answer:\n",
    "            df.loc[len(df)] = [\" \".join(sum2tokens(S)), token2int[token]]\n",
    "            \n",
    "print(df.head())"
   ]
  },
  {
   "cell_type": "code",
   "execution_count": null,
   "id": "3095ce8c",
   "metadata": {},
   "outputs": [],
   "source": []
  },
  {
   "cell_type": "markdown",
   "id": "4113e333",
   "metadata": {},
   "source": [
    "# Tokenize time"
   ]
  },
  {
   "cell_type": "code",
   "execution_count": 9,
   "id": "566e26ea",
   "metadata": {},
   "outputs": [
    {
     "name": "stdout",
     "output_type": "stream",
     "text": [
      "Dataset({\n",
      "    features: ['sum', 'label', '__index_level_0__'],\n",
      "    num_rows: 510356\n",
      "})\n"
     ]
    }
   ],
   "source": [
    "dataset = Dataset.from_pandas(df)\n",
    "print(dataset)"
   ]
  },
  {
   "cell_type": "code",
   "execution_count": 10,
   "id": "2a19b8a3",
   "metadata": {},
   "outputs": [],
   "source": [
    "tokenizer = AutoTokenizer.from_pretrained(model_ckpt)\n",
    "def tokenize(batch):\n",
    "    return tokenizer(batch[\"sum\"], padding=True, truncation=True)"
   ]
  },
  {
   "cell_type": "code",
   "execution_count": 11,
   "id": "a18da3b4",
   "metadata": {},
   "outputs": [
    {
     "data": {
      "application/vnd.jupyter.widget-view+json": {
       "model_id": "",
       "version_major": 2,
       "version_minor": 0
      },
      "text/plain": [
       "Map:   0%|          | 0/510356 [00:00<?, ? examples/s]"
      ]
     },
     "metadata": {},
     "output_type": "display_data"
    },
    {
     "name": "stdout",
     "output_type": "stream",
     "text": [
      "Dataset({\n",
      "    features: ['sum', 'label', '__index_level_0__', 'input_ids', 'token_type_ids', 'attention_mask'],\n",
      "    num_rows: 510356\n",
      "})\n"
     ]
    }
   ],
   "source": [
    "dataset_encoded = dataset.map(tokenize, batched=True)\n",
    "print(dataset_encoded)"
   ]
  },
  {
   "cell_type": "code",
   "execution_count": 12,
   "id": "48a3ae1a",
   "metadata": {},
   "outputs": [
    {
     "name": "stdout",
     "output_type": "stream",
     "text": [
      "Dataset({\n",
      "    features: ['sum', 'label', '__index_level_0__', 'input_ids', 'token_type_ids', 'attention_mask'],\n",
      "    num_rows: 510356\n",
      "})\n"
     ]
    }
   ],
   "source": [
    "dataset_encoded.set_format(\"torch\", columns=[\"input_ids\", \"attention_mask\", \"label\"])\n",
    "print(dataset_encoded)"
   ]
  },
  {
   "cell_type": "code",
   "execution_count": 13,
   "id": "77d540bf",
   "metadata": {},
   "outputs": [
    {
     "data": {
      "application/vnd.jupyter.widget-view+json": {
       "model_id": "333fd70ddddb47fbaf002818ea1d179a",
       "version_major": 2,
       "version_minor": 0
      },
      "text/plain": [
       "Pushing dataset shards to the dataset hub:   0%|          | 0/1 [00:00<?, ?it/s]"
      ]
     },
     "metadata": {},
     "output_type": "display_data"
    },
    {
     "data": {
      "application/vnd.jupyter.widget-view+json": {
       "model_id": "c3e2a2fe77d84b41a654659edc97e334",
       "version_major": 2,
       "version_minor": 0
      },
      "text/plain": [
       "Creating parquet from Arrow format:   0%|          | 0/511 [00:00<?, ?ba/s]"
      ]
     },
     "metadata": {},
     "output_type": "display_data"
    },
    {
     "data": {
      "application/vnd.jupyter.widget-view+json": {
       "model_id": "35d14e2db88f44e0a671e681777ffc51",
       "version_major": 2,
       "version_minor": 0
      },
      "text/plain": [
       "Upload 1 LFS files:   0%|          | 0/1 [00:00<?, ?it/s]"
      ]
     },
     "metadata": {},
     "output_type": "display_data"
    },
    {
     "data": {
      "application/vnd.jupyter.widget-view+json": {
       "model_id": "9bbc9037df78444392126b6994caae15",
       "version_major": 2,
       "version_minor": 0
      },
      "text/plain": [
       "Deleting unused files from dataset repository:   0%|          | 0/1 [00:00<?, ?it/s]"
      ]
     },
     "metadata": {},
     "output_type": "display_data"
    },
    {
     "data": {
      "application/vnd.jupyter.widget-view+json": {
       "model_id": "aba29b46687a41159a0230baf85b406f",
       "version_major": 2,
       "version_minor": 0
      },
      "text/plain": [
       "Downloading metadata:   0%|          | 0.00/560 [00:00<?, ?B/s]"
      ]
     },
     "metadata": {},
     "output_type": "display_data"
    },
    {
     "name": "stderr",
     "output_type": "stream",
     "text": [
      "Updating downloaded metadata with the new split.\n"
     ]
    }
   ],
   "source": [
    "dataset_encoded.push_to_hub(\"Dragonoverlord3000/sum_classifier_dataset\")"
   ]
  },
  {
   "cell_type": "code",
   "execution_count": 14,
   "id": "c0194b54",
   "metadata": {},
   "outputs": [
    {
     "ename": "NameError",
     "evalue": "name 'p' is not defined",
     "output_type": "error",
     "traceback": [
      "\u001b[1;31m---------------------------------------------------------------------------\u001b[0m",
      "\u001b[1;31mNameError\u001b[0m                                 Traceback (most recent call last)",
      "Cell \u001b[1;32mIn [14], line 1\u001b[0m\n\u001b[1;32m----> 1\u001b[0m \u001b[43mp\u001b[49m\n",
      "\u001b[1;31mNameError\u001b[0m: name 'p' is not defined"
     ]
    }
   ],
   "source": [
    "p"
   ]
  },
  {
   "cell_type": "markdown",
   "id": "6849f338",
   "metadata": {},
   "source": [
    "# Model"
   ]
  },
  {
   "cell_type": "code",
   "execution_count": null,
   "id": "13cb9281",
   "metadata": {},
   "outputs": [],
   "source": [
    "def compute_metrics(pred):\n",
    "    labels = pred.label_ids\n",
    "    preds = pred.predictions.argmax(-1)\n",
    "    f1 = f1_score(labels, preds, average=\"weighted\")\n",
    "    acc = accuracy_score(labels, preds)\n",
    "    return {\"accuracy\": acc, \"f1\": f1}"
   ]
  },
  {
   "cell_type": "code",
   "execution_count": null,
   "id": "6431248b",
   "metadata": {},
   "outputs": [],
   "source": [
    "model = AutoModelForSequenceClassification.from_pretrained(model_ckpt, num_labels=num_labels).to(device)\n",
    "print(model)"
   ]
  },
  {
   "cell_type": "code",
   "execution_count": null,
   "id": "fc3c4fe8",
   "metadata": {},
   "outputs": [],
   "source": [
    "# The training arguments - note the `push_to_hub`\n",
    "batch_size = 32\n",
    "logging_steps = batch_size\n",
    "model_name = \"sum-classifier\"\n",
    "training_args = TrainingArguments(output_dir=model_name,\n",
    "                                 num_train_epochs=2,\n",
    "                                 learning_rate=2e-5,\n",
    "                                 per_device_train_batch_size=batch_size,\n",
    "                                 per_gpu_eval_batch_size=batch_size,\n",
    "                                 weight_decay=0.01,\n",
    "                                 evaluation_strategy=\"epoch\",\n",
    "                                 disable_tqdm=False,\n",
    "                                 logging_steps=logging_steps,\n",
    "                                 push_to_hub=True,\n",
    "                                 log_level=\"error\")"
   ]
  },
  {
   "cell_type": "code",
   "execution_count": null,
   "id": "43eb9f90",
   "metadata": {},
   "outputs": [],
   "source": [
    "# Define the trainer\n",
    "trainer = Trainer(model=model, args=training_args,\n",
    "                 compute_metrics=compute_metrics,\n",
    "                 train_dataset=dataset_encoded,\n",
    "                 eval_dataset=dataset_encoded,\n",
    "                 tokenizer=tokenizer)"
   ]
  },
  {
   "cell_type": "code",
   "execution_count": null,
   "id": "579d5d28",
   "metadata": {},
   "outputs": [],
   "source": [
    "# trainer.push_to_hub(commit_message=\"Training Complete\")"
   ]
  },
  {
   "cell_type": "code",
   "execution_count": null,
   "id": "acb142c1",
   "metadata": {},
   "outputs": [],
   "source": []
  },
  {
   "cell_type": "code",
   "execution_count": null,
   "id": "54661aca",
   "metadata": {},
   "outputs": [],
   "source": []
  },
  {
   "cell_type": "code",
   "execution_count": null,
   "id": "8dec39a2",
   "metadata": {},
   "outputs": [],
   "source": []
  }
 ],
 "metadata": {
  "kernelspec": {
   "display_name": "Python 3 (ipykernel)",
   "language": "python",
   "name": "python3"
  },
  "language_info": {
   "codemirror_mode": {
    "name": "ipython",
    "version": 3
   },
   "file_extension": ".py",
   "mimetype": "text/x-python",
   "name": "python",
   "nbconvert_exporter": "python",
   "pygments_lexer": "ipython3",
   "version": "3.10.7"
  }
 },
 "nbformat": 4,
 "nbformat_minor": 5
}
