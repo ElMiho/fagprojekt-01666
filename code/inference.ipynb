{
 "cells": [
  {
   "cell_type": "code",
   "execution_count": 1,
   "metadata": {},
   "outputs": [],
   "source": [
    "import torch"
   ]
  },
  {
   "cell_type": "code",
   "execution_count": 3,
   "metadata": {},
   "outputs": [],
   "source": [
    "# from main import Model"
   ]
  },
  {
   "attachments": {},
   "cell_type": "markdown",
   "metadata": {},
   "source": [
    "# Helper functions"
   ]
  },
  {
   "cell_type": "code",
   "execution_count": 5,
   "metadata": {},
   "outputs": [],
   "source": [
    "def to_indices(scores):\n",
    "    _, indices = torch.max(scores, dim=1)\n",
    "    return indices\n",
    "\n",
    "def sentence_from_indices(indices, vocab, strict=True):\n",
    "    out = []\n",
    "    for index in indices:\n",
    "        index = index.item()\n",
    "        if index == vocab.begin_seq_index and strict:\n",
    "            continue\n",
    "        elif index == vocab.end_seq_index and strict:\n",
    "            return \" \".join(out)\n",
    "        else:\n",
    "            out.append(vocab.getToken(index))\n",
    "    return \" \".join(out)"
   ]
  },
  {
   "attachments": {},
   "cell_type": "markdown",
   "metadata": {},
   "source": [
    "# Inference"
   ]
  },
  {
   "cell_type": "code",
   "execution_count": null,
   "metadata": {},
   "outputs": [
    {
     "ename": "UndefVarError",
     "evalue": "UndefVarError: config not defined",
     "output_type": "error",
     "traceback": [
      "UndefVarError: config not defined\n",
      "\n",
      "Stacktrace:\n",
      " [1] top-level scope\n",
      "   @ c:\\Users\\Hugo\\Documents\\DTU\\01666\\fagprojekt-01666\\code\\data\\inference.ipynb:3"
     ]
    }
   ],
   "source": [
    "# n^2 test\n",
    "test_expression = [\"#\", \"/\", \"0\", \"0\"]\n",
    "test_tensor = torch.tensor([\n",
    "    vocabulary_expressions.vectorize(test_expression) for _ in range(config[\"batch_size\"])\n",
    "], dtype=torch.int32)\n",
    "test_pred = model(\n",
    "    test_tensor,\n",
    "    torch.LongTensor([len(test_tensor[0]) for _ in range(len(test_tensor))]),\n",
    "    target_sequence=None\n",
    ")\n",
    "\n",
    "print(f\"Test expression: {test_expression}\")\n",
    "print(f\"Predicted shape: {test_pred.shape}\")\n",
    "print(f\"Predicted value: {sentence_from_indices(to_indices(test_pred[0]), vocabulary_answers)}\")"
   ]
  },
  {
   "cell_type": "code",
   "execution_count": null,
   "metadata": {},
   "outputs": [],
   "source": []
  },
  {
   "cell_type": "code",
   "execution_count": null,
   "metadata": {},
   "outputs": [],
   "source": []
  },
  {
   "cell_type": "code",
   "execution_count": null,
   "metadata": {},
   "outputs": [],
   "source": []
  }
 ],
 "metadata": {
  "kernelspec": {
   "display_name": "Python 3",
   "language": "python",
   "name": "python3"
  },
  "language_info": {
   "codemirror_mode": {
    "name": "ipython",
    "version": 3
   },
   "file_extension": ".py",
   "mimetype": "text/x-python",
   "name": "python",
   "nbconvert_exporter": "python",
   "pygments_lexer": "ipython3",
   "version": "3.11.0"
  },
  "orig_nbformat": 4
 },
 "nbformat": 4,
 "nbformat_minor": 2
}
