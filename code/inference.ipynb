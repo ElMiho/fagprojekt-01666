{
 "cells": [
  {
   "cell_type": "code",
   "execution_count": 11,
   "metadata": {},
   "outputs": [],
   "source": [
    "import torch\n",
    "\n",
    "from model.vocabulary import vocabulary_answers as target_vocabulary\n",
    "from model.vocabulary import vocabulary_expressions as source_vocabulary\n",
    "\n",
    "import json"
   ]
  },
  {
   "cell_type": "code",
   "execution_count": 12,
   "metadata": {},
   "outputs": [],
   "source": [
    "from model.model import Model"
   ]
  },
  {
   "cell_type": "code",
   "execution_count": 13,
   "metadata": {},
   "outputs": [
    {
     "name": "stdout",
     "output_type": "stream",
     "text": [
      "Using configuration: ./configs/default.json\n"
     ]
    }
   ],
   "source": [
    "config_path = \"./configs/default.json\"\n",
    "print(f\"Using configuration: {config_path}\")\n",
    "\n",
    "file = open(config_path, \"r\")\n",
    "config = json.load(file)\n",
    "file.close()"
   ]
  },
  {
   "attachments": {},
   "cell_type": "markdown",
   "metadata": {},
   "source": [
    "# Load model from checkpoint"
   ]
  },
  {
   "cell_type": "code",
   "execution_count": 14,
   "metadata": {},
   "outputs": [],
   "source": [
    "device = \"cuda\" if torch.cuda.is_available() else \"cpu\""
   ]
  },
  {
   "cell_type": "code",
   "execution_count": 18,
   "metadata": {},
   "outputs": [
    {
     "data": {
      "text/plain": [
       "<All keys matched successfully>"
      ]
     },
     "execution_count": 18,
     "metadata": {},
     "output_type": "execute_result"
    }
   ],
   "source": [
    "model = Model(\n",
    "    source_vocab_size=len(source_vocabulary), source_embedding_size=config[\"embedding_size\"],\n",
    "    target_vocab_size=len(target_vocabulary), target_embedding_size=config[\"embedding_size\"],\n",
    "    encoding_size=config[\"rnn_hidden_size\"], target_bos_index=source_vocabulary.begin_seq_index,\n",
    "    max_seq_length=171\n",
    ").to(device)\n",
    "\n",
    "checkpoint = torch.load(\"model.pth\")\n",
    "model.load_state_dict(checkpoint)"
   ]
  },
  {
   "cell_type": "code",
   "execution_count": 19,
   "metadata": {},
   "outputs": [
    {
     "data": {
      "text/plain": [
       "Model(\n",
       "  (encoder): Encoder(\n",
       "    (source_embedding): Embedding(45, 64, padding_idx=0)\n",
       "    (birnn): GRU(64, 64, batch_first=True, bidirectional=True)\n",
       "  )\n",
       "  (decoder): Decoder(\n",
       "    (target_embedding): Embedding(26, 64, padding_idx=0)\n",
       "    (gru_cell): GRUCell(192, 128)\n",
       "    (hidden_map): Linear(in_features=128, out_features=128, bias=True)\n",
       "    (classifier): Linear(in_features=256, out_features=26, bias=True)\n",
       "    (dropout): Dropout(p=0.3, inplace=False)\n",
       "  )\n",
       ")"
      ]
     },
     "execution_count": 19,
     "metadata": {},
     "output_type": "execute_result"
    }
   ],
   "source": [
    "model.eval()"
   ]
  },
  {
   "attachments": {},
   "cell_type": "markdown",
   "metadata": {},
   "source": [
    "# Helper functions"
   ]
  },
  {
   "cell_type": "code",
   "execution_count": 20,
   "metadata": {},
   "outputs": [],
   "source": [
    "def to_indices(scores):\n",
    "    _, indices = torch.max(scores, dim=1)\n",
    "    return indices\n",
    "\n",
    "def sentence_from_indices(indices, vocab, strict=True):\n",
    "    out = []\n",
    "    for index in indices:\n",
    "        index = index.item()\n",
    "        if index == vocab.begin_seq_index and strict:\n",
    "            continue\n",
    "        elif index == vocab.end_seq_index and strict:\n",
    "            return \" \".join(out)\n",
    "        else:\n",
    "            out.append(vocab.getToken(index))\n",
    "    return \" \".join(out)"
   ]
  },
  {
   "attachments": {},
   "cell_type": "markdown",
   "metadata": {},
   "source": [
    "# Inference"
   ]
  },
  {
   "cell_type": "code",
   "execution_count": 24,
   "metadata": {},
   "outputs": [
    {
     "name": "stdout",
     "output_type": "stream",
     "text": [
      "Test expression: ['#', '/', '0', '0', '0']\n",
      "Predicted shape: torch.Size([8, 95, 26])\n",
      "Predicted value: TT_ZERO TT_INTEGER TT_INTEGER TT_INTEGER TT_SQRT TT_MINUS TT_SQRT TT_MULTIPLY TT_PI TT_INTEGER TT_POW TT_PLUS TT_INTEGER TT_INTEGER TT_RATIONAL TT_MULTIPLY TT_PLUS TT_INTEGER TT_INTEGER TT_LOG TT_MULTIPLY TT_MINUS TT_INTEGER TT_INTEGER TT_LOG TT_MULTIPLY TT_MINUS TT_INTEGER TT_INTEGER TT_LOG TT_MULTIPLY TT_PLUS TT_INTEGER TT_INTEGER TT_LOG TT_MULTIPLY TT_PLUS TT_INTEGER TT_INTEGER TT_SQRT TT_MULTIPLY TT_INTEGER TT_INTEGER TT_SQRT TT_MINUS TT_LOG TT_MULTIPLY TT_PLUS TT_INTEGER TT_DIVIDE\n"
     ]
    }
   ],
   "source": [
    "# n^2 test\n",
    "test_expression = [\"#\", \"/\", \"0\", \"0\", \"0\"]\n",
    "test_tensor = torch.tensor([\n",
    "    source_vocabulary.vectorize(test_expression) for _ in range(config[\"batch_size\"])\n",
    "], dtype=torch.int32)\n",
    "test_pred = model(\n",
    "    test_tensor,\n",
    "    torch.LongTensor([len(test_tensor[0]) for _ in range(len(test_tensor))]),\n",
    "    target_sequence=None\n",
    ")\n",
    "\n",
    "print(f\"Test expression: {test_expression}\")\n",
    "print(f\"Predicted shape: {test_pred.shape}\")\n",
    "print(f\"Predicted value: {sentence_from_indices(to_indices(test_pred[0]), target_vocabulary)}\")"
   ]
  },
  {
   "cell_type": "code",
   "execution_count": null,
   "metadata": {},
   "outputs": [],
   "source": []
  },
  {
   "cell_type": "code",
   "execution_count": null,
   "metadata": {},
   "outputs": [],
   "source": []
  },
  {
   "cell_type": "code",
   "execution_count": null,
   "metadata": {},
   "outputs": [],
   "source": []
  }
 ],
 "metadata": {
  "kernelspec": {
   "display_name": "Python 3",
   "language": "python",
   "name": "python3"
  },
  "language_info": {
   "codemirror_mode": {
    "name": "ipython",
    "version": 3
   },
   "file_extension": ".py",
   "mimetype": "text/x-python",
   "name": "python",
   "nbconvert_exporter": "python",
   "pygments_lexer": "ipython3",
   "version": "3.10.6"
  },
  "orig_nbformat": 4
 },
 "nbformat": 4,
 "nbformat_minor": 2
}
