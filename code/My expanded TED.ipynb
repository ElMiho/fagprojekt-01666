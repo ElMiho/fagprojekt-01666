{
 "cells": [
  {
   "cell_type": "code",
   "execution_count": 41,
   "id": "29147dd3",
   "metadata": {},
   "outputs": [],
   "source": [
    "# Imports\n",
    "from typing import List\n",
    "from collections import deque\n",
    "\n",
    "import matplotlib.pyplot as plt\n",
    "import numpy as np\n",
    "import uuid\n",
    "import copy"
   ]
  },
  {
   "cell_type": "code",
   "execution_count": 42,
   "id": "540b17fe",
   "metadata": {},
   "outputs": [],
   "source": [
    "from model.tokens import *"
   ]
  },
  {
   "cell_type": "code",
   "execution_count": 43,
   "id": "42145442",
   "metadata": {},
   "outputs": [],
   "source": [
    "# Token class\n",
    "class Token:\n",
    "    def __init__(self, t_type: str, t_value:str = None):\n",
    "        self.t_type = t_type\n",
    "        self.t_value = t_value"
   ]
  },
  {
   "cell_type": "code",
   "execution_count": 44,
   "id": "b719f264",
   "metadata": {},
   "outputs": [],
   "source": [
    "# Tree Node Class\n",
    "class Node:\n",
    "    def __init__(self, val:str, left=None, right=None, parent=None):\n",
    "        self.val = val\n",
    "        self.left = left\n",
    "        self.right = right\n",
    "        self.parent = parent\n",
    "        self.ID = uuid.uuid4()\n",
    "        \n",
    "    def __eq__(self, other):\n",
    "        return isinstance(other, Node) and self.ID == other.ID\n",
    "        \n",
    "    def __repr__(self):\n",
    "        return f\"[{self.val} | Left: {self.left} | Right: {self.right} | Parent: {self.parent.val if self.parent else None}]\"\n",
    "    \n",
    "    # Does create new ID's - so not a complete deepcopy\n",
    "    def __copy__(self, parent=None):\n",
    "        root = Node(self.val, parent=parent)\n",
    "        root.left = copy.copy(self.left) if self.left else None\n",
    "        root.right = copy.copy(self.right) if self.right else None\n",
    "        \n",
    "        if root.right:\n",
    "            root.right.parent = root\n",
    "        if root.left:\n",
    "            root.left.parent = root\n",
    "        \n",
    "        return root"
   ]
  },
  {
   "cell_type": "code",
   "execution_count": 45,
   "id": "01b7348a",
   "metadata": {
    "scrolled": true
   },
   "outputs": [
    {
     "data": {
      "text/plain": [
       "(False, False, True)"
      ]
     },
     "execution_count": 45,
     "metadata": {},
     "output_type": "execute_result"
    }
   ],
   "source": [
    "n1 = Node(2)\n",
    "n2 = Node(2)\n",
    "n1 == n2, None == n1, n1 == n1"
   ]
  },
  {
   "cell_type": "markdown",
   "id": "147a064b",
   "metadata": {},
   "source": [
    "# Helper Functions\n",
    "An important thing to have in mind when reading these helper functions is that we don't care about the mathematical correctness of the prediction graph or any modifications of it as we already have correctness of the final graph that we want to find"
   ]
  },
  {
   "cell_type": "code",
   "execution_count": 46,
   "id": "06ec2732",
   "metadata": {},
   "outputs": [],
   "source": [
    "# Distance should be 5\n",
    "# 1) Replace root values\n",
    "# 2) Delete log and replace with child\n",
    "# 3) Swap the two children of '-'\n",
    "# 4) Replace '-' --> '*'\n",
    "# 5) Replace '*' --> '-'\n",
    "correct_test = [Token(TT_INTEGER), Token(TT_INTEGER), Token(TT_PI), Token(TT_MULTIPLY), Token(TT_MINUS), Token(TT_INTEGER), Token(TT_DIVIDE)] # (Z - Z*PI)/Z\n",
    "predict_test = [Token(TT_INTEGER), Token(TT_PI), Token(TT_MINUS), Token(TT_INTEGER), Token(TT_MULTIPLY), Token(TT_INTEGER), Token(TT_LOG), Token(TT_MINUS)] # (Z - PI)*Z - log(Z)"
   ]
  },
  {
   "cell_type": "code",
   "execution_count": 47,
   "id": "3b16455f",
   "metadata": {},
   "outputs": [
    {
     "data": {
      "text/plain": [
       "[TT_DIVIDE | Left: [TT_MINUS | Left: [TT_INTEGER | Left: None | Right: None | Parent: TT_MINUS] | Right: [TT_MULTIPLY | Left: [TT_INTEGER | Left: None | Right: None | Parent: TT_MULTIPLY] | Right: [TT_PI | Left: None | Right: None | Parent: TT_MULTIPLY] | Parent: TT_MINUS] | Parent: TT_DIVIDE] | Right: [TT_INTEGER | Left: None | Right: None | Parent: TT_DIVIDE] | Parent: None]"
      ]
     },
     "execution_count": 47,
     "metadata": {},
     "output_type": "execute_result"
    }
   ],
   "source": [
    "# Input is token list - defaults to right side - returns the last position at which \n",
    "def graph_from_postfix(postfix:List[Token], parent=None) -> tuple:\n",
    "    pointer = len(postfix)-1\n",
    "    token = postfix[pointer].t_type\n",
    "    root = Node(token)\n",
    "    root.parent = parent\n",
    "    if token in unary_operators:\n",
    "        pointer, root.right = graph_from_postfix(postfix[:pointer], root)\n",
    "    elif token in binary_operators:\n",
    "        pointer, root.right = graph_from_postfix(postfix[:pointer], root)\n",
    "        pointer, root.left = graph_from_postfix(postfix[:pointer], root)\n",
    "    \n",
    "    return pointer, root\n",
    "_, predict_graph = graph_from_postfix(predict_test)\n",
    "_, correct_graph = graph_from_postfix(correct_test)\n",
    "correct_graph"
   ]
  },
  {
   "cell_type": "code",
   "execution_count": 48,
   "id": "734ad68c",
   "metadata": {},
   "outputs": [
    {
     "data": {
      "text/plain": [
       "[TT_DIVIDE | Left: [TT_MINUS | Left: [TT_INTEGER | Left: None | Right: None | Parent: TT_MINUS] | Right: [TT_MULTIPLY | Left: [TT_INTEGER | Left: None | Right: None | Parent: TT_MULTIPLY] | Right: [TT_PI | Left: None | Right: None | Parent: TT_MULTIPLY] | Parent: TT_MINUS] | Parent: TT_DIVIDE] | Right: [TT_INTEGER | Left: None | Right: None | Parent: TT_DIVIDE] | Parent: None]"
      ]
     },
     "execution_count": 48,
     "metadata": {},
     "output_type": "execute_result"
    }
   ],
   "source": [
    "copy.copy(correct_graph)"
   ]
  },
  {
   "cell_type": "code",
   "execution_count": 49,
   "id": "d9ca5e9b",
   "metadata": {},
   "outputs": [
    {
     "data": {
      "text/plain": [
       "['TT_INTEGER',\n",
       " 'TT_INTEGER',\n",
       " 'TT_PI',\n",
       " 'TT_MULTIPLY',\n",
       " 'TT_MINUS',\n",
       " 'TT_INTEGER',\n",
       " 'TT_DIVIDE']"
      ]
     },
     "execution_count": 49,
     "metadata": {},
     "output_type": "execute_result"
    }
   ],
   "source": [
    "# This is to get a fingerprint of each graph\n",
    "def graph_to_postfix(root:Node):\n",
    "    if not root: return []\n",
    "    postfix = graph_to_postfix(root.left)\n",
    "    postfix += graph_to_postfix(root.right)\n",
    "    postfix += [root.val]\n",
    "    return postfix\n",
    "graph_to_postfix(correct_graph) # Note that the '\\\\' are just a consequence of the symbols being stored in latex format"
   ]
  },
  {
   "cell_type": "code",
   "execution_count": 50,
   "id": "1dac4e52",
   "metadata": {},
   "outputs": [
    {
     "data": {
      "text/plain": [
       "7"
      ]
     },
     "execution_count": 50,
     "metadata": {},
     "output_type": "execute_result"
    }
   ],
   "source": [
    "def node_count(root):\n",
    "    if not root:\n",
    "        return 0\n",
    "    \n",
    "    return node_count(root.left) + node_count(root.right) + 1\n",
    "node_count(correct_graph) # 7"
   ]
  },
  {
   "cell_type": "code",
   "execution_count": 51,
   "id": "648f49ef",
   "metadata": {},
   "outputs": [
    {
     "data": {
      "image/png": "[encoded data removed]",
      "text/plain": [
       "<Figure size 1800x600 with 2 Axes>"
      ]
     },
     "metadata": {},
     "output_type": "display_data"
    }
   ],
   "source": [
    "# Shows the graph\n",
    "def show_graph(root:Node, root_x=0, root_y=0, level=1, color=\"orange\"):\n",
    "    plt.axis(\"off\")\n",
    "    dist_mid = np.sqrt(2)\n",
    "    theta = 45/180 * np.pi / (0.6*level + 0.4) # I wanted do 1/level, but it was horrendous for big graphs\n",
    "    font_space = 0.3\n",
    "        \n",
    "    # Plot node\n",
    "    plt.text(root_x, root_y, f\"${token2symbol[root.val]}$\",\n",
    "              bbox={'facecolor':'white','alpha':1,'edgecolor':'none','pad':1},\n",
    "              ha='center', va='center', \n",
    "             fontsize=18)\n",
    "    \n",
    "    # Plot children\n",
    "    if root.left and root.right:\n",
    "        x_left, y_left = root_x - dist_mid * np.tan(theta) + font_space, root_y - dist_mid - font_space\n",
    "        x_right, y_right = root_x + dist_mid * np.tan(theta) - font_space, y_left\n",
    "        \n",
    "        # Show line and then recursively show left side\n",
    "        plt.plot((root_x, x_left), (root_y, y_left), color=color)\n",
    "        show_graph(root.left, x_left, y_left, level+1, color)\n",
    "        \n",
    "        # Show line and then recursively show right side\n",
    "        plt.plot((root_x, x_right), (root_y, y_right), color=color)\n",
    "        show_graph(root.right, x_right, y_right, level+1, color)\n",
    "    elif root.right:\n",
    "        x_mid, y_mid = root_x, root_y - dist_mid\n",
    "        plt.plot((root_x, x_mid), (root_y, y_mid), color=color)\n",
    "        # Recursively show graph\n",
    "        show_graph(root.right, x_mid, y_mid, level+1, color)\n",
    "\n",
    "plt.figure(figsize=(18,6))\n",
    "plt.subplot(1,2,1)\n",
    "plt.title(\"Predicted\", fontsize=22)\n",
    "show_graph(predict_graph)\n",
    "plt.subplot(1,2,2)\n",
    "plt.title(\"Correct\", fontsize=22)\n",
    "show_graph(correct_graph)\n",
    "plt.show()"
   ]
  },
  {
   "cell_type": "code",
   "execution_count": 55,
   "id": "57947290",
   "metadata": {},
   "outputs": [
    {
     "data": {
      "image/png": "[encoded data removed]",
      "text/plain": [
       "<Figure size 640x480 with 1 Axes>"
      ]
     },
     "metadata": {},
     "output_type": "display_data"
    }
   ],
   "source": [
    "_, test = graph_from_postfix([Token(t) for t in \"TT_ONE TT_PLUS TT_INTEGER TT_INTEGER TT_EULERGAMMA TT_INTEGER TT_EULERGAMMA TT_INTEGER TT_ZERO TT_SQRT TT_PI TT_INTEGER TT_MULTIPLY TT_SQRT TT_DIVIDE TT_INTEGER TT_INTEGER TT_MULTIPLY TT_MINUS TT_MINUS\".split()])\n",
    "show_graph(test)"
   ]
  },
  {
   "cell_type": "code",
   "execution_count": null,
   "id": "06f818e0",
   "metadata": {},
   "outputs": [],
   "source": [
    "def graph_equality(root1, root2):\n",
    "    # In case it's a null-node\n",
    "    if not root1 or not root2:\n",
    "        return root1 is None and root2 is None\n",
    "    # Check for root equality\n",
    "    if root1.val != root2.val:\n",
    "        return False\n",
    "    # Recurse\n",
    "    return graph_equality(root1.left, root2.left) and graph_equality(root1.right, root2.right)\n",
    "graph_equality(correct_graph, correct_graph), graph_equality(correct_graph, Node(TT_DIVIDE))"
   ]
  },
  {
   "cell_type": "markdown",
   "id": "28f1e693",
   "metadata": {},
   "source": [
    "### Examples of node operations"
   ]
  },
  {
   "cell_type": "markdown",
   "id": "a78eab37",
   "metadata": {},
   "source": [
    "<b>Node Insertion:</b> takes a node and puts a new node in between the current node and it's parent\n",
    "\n",
    "            1         Insert Node 2 -> 2-4         1\n",
    "           / \\        ------------------->        / \\\n",
    "          2   3                                  4   3\n",
    "               \\                                /     \\\n",
    "                6                              2       6\n",
    "            \n",
    "What about the leaf nodes then? Well it will always be better to do a replace if necessary and then let the base case handle the rest"
   ]
  },
  {
   "cell_type": "code",
   "execution_count": null,
   "id": "eaccb19d",
   "metadata": {},
   "outputs": [],
   "source": [
    "# Assumes that 'parent' isn't a leaf node - note that the 'node' parameter only needs to be specified if parent is None\n",
    "def node_insert(node, to_insert):\n",
    "    parent = node.parent\n",
    "    if not parent:\n",
    "        to_insert.right = node\n",
    "        node.parent = to_insert\n",
    "        return\n",
    "    \n",
    "    if parent.right == node:\n",
    "        parent.right = to_insert\n",
    "        to_insert.right = node\n",
    "        \n",
    "    elif parent.left == node:\n",
    "        parent.left = to_insert\n",
    "        to_insert.right = node\n",
    "        \n",
    "    to_insert.parent = parent\n",
    "    node.parent = to_insert"
   ]
  },
  {
   "cell_type": "markdown",
   "id": "c649de38",
   "metadata": {},
   "source": [
    "<b>Replace Node:</b> takes a node and the new value it should be given and then replaces the node's value\n",
    "\n",
    "            1          Replace Node 5 -> 7         1\n",
    "           / \\        ------------------->        / \\\n",
    "          2   3                                  2   3\n",
    "         / \\   \\                                / \\   \\\n",
    "        4   5   6                              4   7   6\n"
   ]
  },
  {
   "cell_type": "code",
   "execution_count": null,
   "id": "ca98339e",
   "metadata": {},
   "outputs": [],
   "source": [
    "# Replace one node value with another \n",
    "def node_replace(node, value_to):\n",
    "    node.val = value_to"
   ]
  },
  {
   "cell_type": "markdown",
   "id": "77201080",
   "metadata": {},
   "source": [
    "<b>Node Delete:</b> Deletes a node and replaces it with the right or left child with cost equal to the size of the other side\n",
    "\n",
    "            1                        Delete Node 2,                    1\n",
    "           / \\                       replace with its                 / \\\n",
    "          2   3                      right child (5)                 5   3\n",
    "         / \\                         -------------->                / \\\n",
    "        4   5                                                      6   7\n",
    "           / \\\n",
    "          6   7\n",
    "\n",
    "Note that it does not make sense to make a ternary tree, as this would entail completely deleting one of the three branches which reduces to just introducing the cost described above"
   ]
  },
  {
   "cell_type": "code",
   "execution_count": null,
   "id": "e9c6caf0",
   "metadata": {},
   "outputs": [],
   "source": [
    "# Delete node and replace with right or left subnode (if applicable) - note that it is assummed not to be the root (with good reason)\n",
    "def node_delete(node, replace_w_right=True):\n",
    "    if replace_w_right:\n",
    "        if node.parent.right == node:\n",
    "            node.parent.right = node.right\n",
    "        else:\n",
    "            node.parent.left = node.right\n",
    "    else:\n",
    "        if node.parent.right == node:\n",
    "            node.parent.right = node.left\n",
    "        else:\n",
    "            node.parent.left = node.left\n",
    "            \n",
    "    # This is just a nicety for later\n",
    "    node.parent = None"
   ]
  },
  {
   "cell_type": "code",
   "execution_count": null,
   "id": "8f2ba6cc",
   "metadata": {},
   "outputs": [],
   "source": [
    "# Delete whole subtree\n",
    "def node_delete_all(node):\n",
    "    # If is root\n",
    "    if not node.parent: \n",
    "        node = None\n",
    "        \n",
    "    elif node.parent.right == node:\n",
    "        node.parent.right = None\n",
    "        \n",
    "    elif node.parent.left == node:\n",
    "        node.parent.left = None\n",
    "    \n",
    "    # This is just a nicety for later\n",
    "    node.parent = None"
   ]
  },
  {
   "cell_type": "markdown",
   "id": "bc20ea7a",
   "metadata": {},
   "source": [
    "<b>Node Swap:</b> Swaps the left child with the right child of a node\n",
    "\n",
    "         1                           Node Swap: swap                        1\n",
    "       /   \\                         subtrees 2 and 3                     /   \\\n",
    "      2     3                        -------------->                     3     2\n",
    "     / \\   / \\                                                          / \\   / \\\n",
    "    4   5 6   7                                                        6   7 4   5"
   ]
  },
  {
   "cell_type": "code",
   "execution_count": null,
   "id": "e08b6fc2",
   "metadata": {},
   "outputs": [],
   "source": [
    "# Swaps one child with another\n",
    "def node_swap(node):\n",
    "    node.left, node.right = node.right, node.left"
   ]
  },
  {
   "cell_type": "markdown",
   "id": "69c9d969",
   "metadata": {},
   "source": [
    "# Tree Edit Distance Algorithm\n",
    "`root_pred` is the root of the predicted tree\n",
    "\n",
    "`root_correct` is the root of the correct tree\n",
    "\n",
    "Does a simultaneous BFS and each time a discrepancy is encountered, every tool in the arsenal above is thrown at it (not actually, only the result - like for lehvenstein), and the action used is recorded so the result also provides what operations are needed where\n",
    "\n",
    "\n",
    "An important note is that because of the `Replace and Swap` operator TED(a,b) is not necessarily TED(b,a), based on the commutativity of the replacement operator"
   ]
  },
  {
   "cell_type": "code",
   "execution_count": null,
   "id": "5170a93b",
   "metadata": {},
   "outputs": [],
   "source": [
    "class TreeEditDistance:\n",
    "    def __init__(self):\n",
    "        self.cache = {}\n",
    "        \n",
    "    def calculate(self, root_predict, root_correct):\n",
    "        key = (\",\".join(graph_to_postfix(root_predict)), \",\".join(graph_to_postfix(root_correct)))\n",
    "        if key in self.cache:\n",
    "            return self.cache[key]\n",
    "        \n",
    "        # Base case\n",
    "        if not root_predict or not root_correct:\n",
    "            return (max(node_count(root_predict), node_count(root_correct)), \"Da\") # Delete all none-null nodes\n",
    "        \n",
    "        # Replace cost is 1 if the root nodes contain different values\n",
    "        replace_cost = int(root_predict.val != root_correct.val)\n",
    "        \n",
    "        # Recurse and calculate the minimum distance\n",
    "        min_dist, operation = min( \n",
    "                       (self.calculate(root_predict.left, root_correct.left)[0] + self.calculate(root_predict.right, root_correct.right)[0] + replace_cost, \"R\"), # Replace Node\n",
    "                       (self.calculate(root_predict.left, root_correct.right)[0] + self.calculate(root_predict.right, root_correct.left)[0] + replace_cost + (1 if not root_correct.val in commutative_operators else 0), \"RS\"), # Replace Node + Swap Node\n",
    "                       (self.calculate(None, root_correct.left)[0] + self.calculate(root_predict, root_correct.right)[0] + 1, \"I\"), # Insert Node\n",
    "                       (self.calculate(root_predict.left, root_correct)[0] + node_count(root_predict.right) + 1, \"Dl\"), # Delete Node and replace with left\n",
    "                       (self.calculate(root_predict.right, root_correct)[0] + node_count(root_predict.left) + 1, \"Dr\"), # Delete Node and replace with right\n",
    "                       key = lambda v: v[0]\n",
    "                      )\n",
    "\n",
    "        self.cache[key] = (min_dist, operation)\n",
    "        return (min_dist, operation)\n",
    "    \n",
    "    def __call__(self, root_predict, root_correct):\n",
    "        return self.calculate(root_predict, root_correct)[0]"
   ]
  },
  {
   "cell_type": "markdown",
   "id": "7ffc6e18",
   "metadata": {},
   "source": [
    "### Simple tests"
   ]
  },
  {
   "cell_type": "code",
   "execution_count": null,
   "id": "d02b7598",
   "metadata": {},
   "outputs": [],
   "source": [
    "# Main test - expected: 5\n",
    "TED = TreeEditDistance()\n",
    "TED.calculate(predict_graph, correct_graph)"
   ]
  },
  {
   "cell_type": "code",
   "execution_count": null,
   "id": "0a95ea4e",
   "metadata": {},
   "outputs": [],
   "source": [
    "# Test replace\n",
    "TED(Node(TT_PLUS, Node(TT_INTEGER), Node(TT_PI)), Node(TT_PLUS, Node(TT_INTEGER), Node(TT_INTEGER)))"
   ]
  },
  {
   "cell_type": "code",
   "execution_count": null,
   "id": "9e283eb4",
   "metadata": {},
   "outputs": [],
   "source": [
    "# Test delete\n",
    "TED(Node(TT_MINUS, Node(TT_INTEGER), Node(TT_INTEGER)), Node(TT_MINUS, None, Node(TT_INTEGER)))"
   ]
  },
  {
   "cell_type": "code",
   "execution_count": null,
   "id": "a6b34bb0",
   "metadata": {},
   "outputs": [],
   "source": [
    "# Test insert\n",
    "TED(Node(TT_MINUS, None, Node(TT_INTEGER)), Node(TT_MINUS, Node(TT_INTEGER), Node(TT_INTEGER)))"
   ]
  },
  {
   "cell_type": "code",
   "execution_count": null,
   "id": "e6b73d3a",
   "metadata": {},
   "outputs": [],
   "source": [
    "# Test child node swap - commutative\n",
    "TED(Node(TT_PLUS, Node(TT_INTEGER), Node(TT_PI)), Node(TT_PLUS, Node(TT_PI), Node(TT_INTEGER)))"
   ]
  },
  {
   "cell_type": "code",
   "execution_count": null,
   "id": "137c83c2",
   "metadata": {},
   "outputs": [],
   "source": [
    "# Test child node swap - not commutative\n",
    "TED(Node(TT_MINUS, Node(TT_INTEGER), Node(TT_PI)), Node(TT_MINUS, Node(TT_PI), Node(TT_INTEGER)))"
   ]
  },
  {
   "cell_type": "code",
   "execution_count": null,
   "id": "a9512bd3",
   "metadata": {},
   "outputs": [],
   "source": [
    "# Test equal\n",
    "TED(Node(TT_PLUS, Node(TT_INTEGER), Node(TT_PI)), Node(TT_PLUS, Node(TT_INTEGER), Node(TT_PI)))"
   ]
  },
  {
   "cell_type": "code",
   "execution_count": null,
   "id": "a528988e",
   "metadata": {
    "scrolled": true
   },
   "outputs": [],
   "source": [
    "# Overlapping subtree test - exptected: 6\n",
    "TED(\n",
    "    Node(TT_MULTIPLY, Node(TT_DIVIDE, Node(TT_LOG, None, Node(TT_SQRT, None, Node(TT_INTEGER))), Node(TT_INTEGER)), Node(TT_PI)),\n",
    "    Node(TT_LOG, None, Node(TT_SQRT, None, Node(TT_PLUS, Node(TT_PI), Node(TT_INTEGER))))\n",
    ")"
   ]
  },
  {
   "cell_type": "markdown",
   "id": "d3448534",
   "metadata": {},
   "source": [
    "# Interactive TED\n",
    "It might seem really inefficient that we're calling TED all over again for every operation, but it is actually not! Remember: we have cached all these states when calculating the TED, thus it's only a matter of traversing the graph and then doing an $O(1)$ lookup in our hashmap (given that we're using the same TreeEditDistance instance each call).\n",
    "\n",
    "\n",
    "Note: there might be a few bugs, but it works for every case I have thrown at it"
   ]
  },
  {
   "cell_type": "code",
   "execution_count": null,
   "id": "ea94e758",
   "metadata": {},
   "outputs": [],
   "source": [
    "## Another test-case - expected: 8\n",
    "# predicted_graph = Node(TT_MULTIPLY, Node(TT_DIVIDE, Node(TT_LOG, None, Node(TT_SQRT, None, Node(TT_INTEGER))), Node(TT_INTEGER)), Node(TT_PI)),\n",
    "# correct_graph = Node(TT_LOG, None, Node(TT_SQRT, None, Node(TT_PLUS, Node(TT_PI), Node(TT_INTEGER))))"
   ]
  },
  {
   "cell_type": "code",
   "execution_count": null,
   "id": "d24fb9ff",
   "metadata": {},
   "outputs": [],
   "source": [
    "## Another test-case again - expected: 6\n",
    "_, predict_graph = graph_from_postfix([Token(t) for t in [\"TT_INTEGER\", \"TT_INTEGER\", \"TT_DIVIDE\"]])\n",
    "_, correct_graph = graph_from_postfix([Token(t) for t in [\"TT_INTEGER\", \"TT_LOG\", \"TT_LOG\", \"TT_LOG\", \"TT_LOG\", \"TT_SQRT\"]])"
   ]
  },
  {
   "cell_type": "code",
   "execution_count": null,
   "id": "b6d7367b",
   "metadata": {},
   "outputs": [],
   "source": [
    "## Another test-case againx2 - expected: 4\n",
    "# predict_graph, correct_graph = correct_graph, predict_graph"
   ]
  },
  {
   "cell_type": "code",
   "execution_count": null,
   "id": "2c327c82",
   "metadata": {
    "scrolled": false
   },
   "outputs": [],
   "source": [
    "# Instantiate our calculator\n",
    "TED = TreeEditDistance()\n",
    "\n",
    "# Some meta-data\n",
    "total_dist = 0\n",
    "fontsize = 25\n",
    "n_rows = 4\n",
    "n_cols = 4\n",
    "\n",
    "# Instantiate the subtree-root stack\n",
    "root_predict, root_correct = copy.copy(predict_graph), copy.copy(correct_graph)\n",
    "stack = [(root_predict, root_correct)] # Stores the node-pairs for subtrees\n",
    "\n",
    "plt.figure(figsize=(18, 30))\n",
    "\n",
    "# Show initial graph\n",
    "plt.subplot(n_rows,n_cols,1)\n",
    "plt.title(\"Predicted Tree\", fontsize=fontsize)\n",
    "show_graph(root_predict, color=\"blue\")\n",
    "\n",
    "# While there are still operations to perform\n",
    "idx = 1\n",
    "while stack:\n",
    "    node_predict, node_correct = stack.pop()\n",
    "    if not node_predict and not node_correct: continue\n",
    "    \n",
    "    # Lookup operation and distance in cache\n",
    "    dist, operation = TED.calculate(node_predict, node_correct)\n",
    "    total_dist += dist\n",
    "    \n",
    "    val_pred = node_predict.val if node_predict else None\n",
    "    val_cor = node_correct.val if node_correct else None\n",
    "    \n",
    "    # Modify the graph according to 'operation'\n",
    "    ## Replace node\n",
    "    if operation == \"R\":\n",
    "        flag = node_predict and node_correct and node_predict.val == node_correct.val\n",
    "        node_replace(node_predict, node_correct.val)\n",
    "        # Append to stack\n",
    "        stack.append((node_predict.left if node_predict else None, node_correct.left if node_correct else None))\n",
    "        stack.append((node_predict.right if node_predict else None, node_correct.right if node_correct else None))\n",
    "        if flag: \n",
    "            continue\n",
    "        \n",
    "    ## Replace node and swap\n",
    "    elif operation == \"RS\":\n",
    "        node_swap(node_predict)\n",
    "        node_replace(node_predict, node_correct.val)\n",
    "        # Append swapped to stack\n",
    "        stack.append((node_predict.left if node_predict else None, node_correct.left if node_correct else None))\n",
    "        stack.append((node_predict.right if node_predict else None, node_correct.right if node_correct else None))\n",
    "    \n",
    "    ## Insert node\n",
    "    elif operation == \"I\":\n",
    "        node_insert(node_predict, Node(node_correct.val))\n",
    "        # Append to stack\n",
    "        stack.append((None, node_correct.left if node_correct else None))\n",
    "        stack.append((node_predict, node_correct.right if node_correct else None))\n",
    "\n",
    "    ## Delete and replace with left\n",
    "    elif operation == \"Dl\":\n",
    "        node_delete(node_predict, False)\n",
    "        # Append to stack\n",
    "        stack.append((node_predict.left if node_predict else None, node_correct))\n",
    "    \n",
    "    ## Delete and replace with right\n",
    "    elif operation == \"Dr\":\n",
    "        node_delete(node_predict)\n",
    "        # Append to stack\n",
    "        stack.append((node_predict.right if node_predict else None, node_correct))\n",
    "    \n",
    "    ## Delete all\n",
    "    elif operation == \"Da\":\n",
    "        # In case a previous \"Da\" has already deleted this subtree, skip\n",
    "        root_before = node_predict\n",
    "        while root_before and root_before.parent: root_before = root_before.parent\n",
    "        if root_before != root_predict: \n",
    "            continue\n",
    "            \n",
    "        # Delete all\n",
    "        node_delete_all(node_predict)\n",
    "    \n",
    "    # Show the modified graph\n",
    "    idx += 1\n",
    "    plt.subplot(n_rows,n_cols,idx)\n",
    "    plt.title(fr\"{idx-1}. [{operation} | ${token2symbol[val_pred]}$ | ${token2symbol[val_cor]}$]\", fontsize=fontsize)\n",
    "    show_graph(root_predict)\n",
    "    \n",
    "print(f\"Distance: {TED(predict_graph, correct_graph)}\")\n",
    "plt.subplot(n_rows,n_cols,idx+1)\n",
    "plt.title(\"Correct tree\", fontsize=fontsize)\n",
    "show_graph(root_correct, color=\"red\")\n",
    "plt.show()"
   ]
  },
  {
   "cell_type": "code",
   "execution_count": null,
   "id": "b0f46e25",
   "metadata": {},
   "outputs": [],
   "source": []
  },
  {
   "cell_type": "code",
   "execution_count": null,
   "id": "0c416143",
   "metadata": {},
   "outputs": [],
   "source": []
  },
  {
   "cell_type": "code",
   "execution_count": null,
   "id": "fd5bbd75",
   "metadata": {},
   "outputs": [],
   "source": []
  },
  {
   "cell_type": "code",
   "execution_count": null,
   "id": "968a13f9",
   "metadata": {},
   "outputs": [],
   "source": []
  },
  {
   "cell_type": "code",
   "execution_count": null,
   "id": "b9149616",
   "metadata": {},
   "outputs": [],
   "source": []
  },
  {
   "cell_type": "code",
   "execution_count": null,
   "id": "5240fa35",
   "metadata": {},
   "outputs": [],
   "source": []
  },
  {
   "cell_type": "code",
   "execution_count": null,
   "id": "593e4090",
   "metadata": {},
   "outputs": [],
   "source": []
  },
  {
   "cell_type": "code",
   "execution_count": null,
   "id": "862806af",
   "metadata": {},
   "outputs": [],
   "source": []
  },
  {
   "cell_type": "code",
   "execution_count": null,
   "id": "0077942f",
   "metadata": {},
   "outputs": [],
   "source": []
  },
  {
   "cell_type": "code",
   "execution_count": null,
   "id": "41b1ea20",
   "metadata": {},
   "outputs": [],
   "source": []
  }
 ],
 "metadata": {
  "kernelspec": {
   "display_name": "Python 3 (ipykernel)",
   "language": "python",
   "name": "python3"
  },
  "language_info": {
   "codemirror_mode": {
    "name": "ipython",
    "version": 3
   },
   "file_extension": ".py",
   "mimetype": "text/x-python",
   "name": "python",
   "nbconvert_exporter": "python",
   "pygments_lexer": "ipython3",
   "version": "3.10.7"
  }
 },
 "nbformat": 4,
 "nbformat_minor": 5
}
