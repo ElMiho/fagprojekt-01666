{
 "cells": [
  {
   "cell_type": "code",
   "execution_count": 1,
   "id": "9b3c4982",
   "metadata": {},
   "outputs": [],
   "source": [
    "import sys\n",
    "import json"
   ]
  },
  {
   "cell_type": "markdown",
   "id": "41543953",
   "metadata": {},
   "source": [
    "### Config"
   ]
  },
  {
   "cell_type": "code",
   "execution_count": 2,
   "id": "bf9b2fcb",
   "metadata": {},
   "outputs": [
    {
     "data": {
      "text/plain": [
       "{'global_params': {'train_en_file': 'data/en_train.sample',\n",
       "  'train_de_file': 'data/de_train.sample',\n",
       "  'valid_en_file': 'data/en_valid.sample',\n",
       "  'valid_de_file': 'data/de_valid.sample'},\n",
       " 'encoder_params': {'tokenizer_path': 'tokenizers/en_tok/',\n",
       "  'vocab_size': 25000,\n",
       "  'min_freq': 3,\n",
       "  'max_length': 512,\n",
       "  'num_attn_heads': 8,\n",
       "  'num_hidden_layers': 8,\n",
       "  'hidden_size': 512},\n",
       " 'decoder_params': {'tokenizer_path': 'tokenizers/de_tok/',\n",
       "  'vocab_size': 25000,\n",
       "  'min_freq': 3,\n",
       "  'max_length': 256,\n",
       "  'num_attn_heads': 8,\n",
       "  'num_hidden_layers': 8,\n",
       "  'hidden_size': 512},\n",
       " 'model_params': {'batch_size': 16,\n",
       "  'num_epochs': 1,\n",
       "  'lr': 0.0001,\n",
       "  'model_path': 'models/',\n",
       "  'model_name': 'encdec.mdl'}}"
      ]
     },
     "execution_count": 2,
     "metadata": {},
     "output_type": "execute_result"
    }
   ],
   "source": [
    "configfile = \"./configs/config_llm.json\"\n",
    "with open(configfile, \"r\") as f:\n",
    "    config = json.load(f)\n",
    "f.close()\n",
    "config"
   ]
  },
  {
   "cell_type": "markdown",
   "id": "07c4879e",
   "metadata": {},
   "source": [
    "### Tokenizers"
   ]
  },
  {
   "cell_type": "code",
   "execution_count": null,
   "id": "f061cbd1",
   "metadata": {},
   "outputs": [],
   "source": []
  },
  {
   "cell_type": "code",
   "execution_count": null,
   "id": "bae66c75",
   "metadata": {},
   "outputs": [],
   "source": []
  },
  {
   "cell_type": "code",
   "execution_count": null,
   "id": "81fb74c5",
   "metadata": {},
   "outputs": [],
   "source": []
  },
  {
   "cell_type": "code",
   "execution_count": null,
   "id": "8f2d2738",
   "metadata": {},
   "outputs": [],
   "source": []
  },
  {
   "cell_type": "code",
   "execution_count": null,
   "id": "d4f38a09",
   "metadata": {},
   "outputs": [],
   "source": []
  },
  {
   "cell_type": "code",
   "execution_count": null,
   "id": "c283aa20",
   "metadata": {},
   "outputs": [],
   "source": []
  },
  {
   "cell_type": "code",
   "execution_count": null,
   "id": "9899c7f4",
   "metadata": {},
   "outputs": [],
   "source": []
  },
  {
   "cell_type": "code",
   "execution_count": null,
   "id": "e51d015e",
   "metadata": {},
   "outputs": [],
   "source": []
  },
  {
   "cell_type": "code",
   "execution_count": null,
   "id": "8728aadf",
   "metadata": {},
   "outputs": [],
   "source": []
  },
  {
   "cell_type": "code",
   "execution_count": null,
   "id": "f6fba2b3",
   "metadata": {},
   "outputs": [],
   "source": []
  },
  {
   "cell_type": "code",
   "execution_count": null,
   "id": "5596ba94",
   "metadata": {},
   "outputs": [],
   "source": []
  },
  {
   "cell_type": "code",
   "execution_count": null,
   "id": "8ee271ac",
   "metadata": {},
   "outputs": [],
   "source": []
  },
  {
   "cell_type": "code",
   "execution_count": null,
   "id": "0a92f957",
   "metadata": {},
   "outputs": [],
   "source": []
  }
 ],
 "metadata": {
  "kernelspec": {
   "display_name": "Python 3 (ipykernel)",
   "language": "python",
   "name": "python3"
  },
  "language_info": {
   "codemirror_mode": {
    "name": "ipython",
    "version": 3
   },
   "file_extension": ".py",
   "mimetype": "text/x-python",
   "name": "python",
   "nbconvert_exporter": "python",
   "pygments_lexer": "ipython3",
   "version": "3.10.7"
  }
 },
 "nbformat": 4,
 "nbformat_minor": 5
}
